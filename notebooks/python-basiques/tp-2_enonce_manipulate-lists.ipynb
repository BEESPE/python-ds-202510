{
  "cells": [
    {
      "cell_type": "markdown",
      "metadata": {
        "id": "XBgLFzVZ8PlB"
      },
      "source": [
        "# <font color=\"purple\"> Manipulate lists </font>"
      ]
    },
    {
      "cell_type": "markdown",
      "metadata": {
        "id": "RQiURHhX5MnI"
      },
      "source": [
        "## <font color=\"green\"> Days of the week </font>\n",
        "\n",
        "Create a  list `week` containing the 7 days of the week.\n",
        "\n",
        "- From this list, how do you retrieve only the first 5 days of the week on one hand, and those of the weekend on the other hand? Use positive indexing for this.\n",
        "- Achieve the same result using negative indexing.\n",
        "- Access the last day of the week.\n",
        "- Reverse the days of the week in one command."
      ]
    },
    {
      "cell_type": "code",
      "execution_count": 2,
      "metadata": {
        "id": "POmuZE1v5bNG"
      },
      "outputs": [],
      "source": [
        "# Your code"
      ]
    },
    {
      "cell_type": "markdown",
      "metadata": {
        "id": "OgYyKCqb5Qaz"
      },
      "source": [
        "## <font color=\"green\"> Seasons </font>\n",
        "\n",
        "Create 4 lists `winter`, `spring`, `summer`, and `autumn` containing the corresponding months of these seasons. Then, create a list `seasons` containing the lists `winter`, `spring`, `summer`, and `autumn`. Predict what the following instructions return, then verify it in the interpreter.\n",
        "\n",
        "- `seasons[2]`\n",
        "- `seasons[1][0]`\n",
        "- `seasons[1:2]`\n",
        "- `seasons[:][1]`"
      ]
    },
    {
      "cell_type": "code",
      "execution_count": null,
      "metadata": {
        "id": "zMXxIdLZ5Z8n"
      },
      "outputs": [],
      "source": [
        "# Your code"
      ]
    },
    {
      "cell_type": "markdown",
      "metadata": {
        "id": "M0D2vYnK5T3i"
      },
      "source": [
        "## <font color=\"green\"> Multiplication table of 9 </font>\n",
        "\n",
        "Display the results of the multiplication table by 9 (from $9 \\times 1$ to $9 \\times 10$) in a single command using the [`range`](https://docs.python.org/fr/3/library/functions.html#func-range) and [`list`](https://docs.python.org/fr/3/library/functions.html#func-list) instructions."
      ]
    },
    {
      "cell_type": "code",
      "execution_count": null,
      "metadata": {
        "id": "aZ0ZJOTM5YzR"
      },
      "outputs": [],
      "source": [
        "# Your code"
      ]
    }
  ],
  "metadata": {
    "colab": {
      "collapsed_sections": [
        "NAHFEWYf5dZ_",
        "ZB15J-Zb6hIv",
        "T6YXMy1u7dI1",
        "3mRq22Eq8AEM"
      ],
      "private_outputs": true,
      "provenance": []
    },
    "kernelspec": {
      "display_name": "Python 3",
      "name": "python3"
    },
    "language_info": {
      "codemirror_mode": {
        "name": "ipython",
        "version": 3
      },
      "file_extension": ".py",
      "mimetype": "text/x-python",
      "name": "python",
      "nbconvert_exporter": "python",
      "pygments_lexer": "ipython3",
      "version": "3.11.4"
    }
  },
  "nbformat": 4,
  "nbformat_minor": 0
}
