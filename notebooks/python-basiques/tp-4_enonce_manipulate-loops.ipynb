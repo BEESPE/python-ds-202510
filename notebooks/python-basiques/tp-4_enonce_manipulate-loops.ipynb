{
  "cells": [
    {
      "cell_type": "markdown",
      "metadata": {
        "id": "KfrKKtw0CAsL"
      },
      "source": [
        "\n",
        "# <font color=\"purple\"> Manipulate loops </font>\n"
      ]
    },
    {
      "cell_type": "markdown",
      "metadata": {
        "id": "T6ESilHlCLiF"
      },
      "source": [
        "## <font color=\"green\"> Basic loops </font>\n",
        "\n",
        "Display all elements of the list `libraries` (one element per line) in three different ways (two with `for` and one with `while`)."
      ]
    },
    {
      "cell_type": "code",
      "execution_count": 1,
      "metadata": {
        "id": "Ve277XBV6Xwc"
      },
      "outputs": [],
      "source": [
        "libraries = [\"numpy\", \"pandas\", \"tensorflow\", \"flask\"]"
      ]
    },
    {
      "cell_type": "code",
      "execution_count": 2,
      "metadata": {
        "id": "JjYbriMKCM3n"
      },
      "outputs": [],
      "source": [
        "# Your code"
      ]
    },
    {
      "cell_type": "markdown",
      "metadata": {
        "id": "kJoG0SuRCN5U"
      },
      "source": [
        "## <font color=\"green\"> Days of the week (back) </font>\n",
        "\n",
        "\n",
        "Write a series of instructions displaying the weekdays of the week, using a `for` loop, followed by another series of instructions displaying the weekend days, using a `while` loop."
      ]
    },
    {
      "cell_type": "code",
      "execution_count": 3,
      "metadata": {
        "id": "oEj_mrBB6Di2"
      },
      "outputs": [],
      "source": [
        "week = [\n",
        "    \"monday\",\n",
        "    \"tuesday\",\n",
        "    \"wednesday\",\n",
        "    \"thursday\",\n",
        "    \"friday\",\n",
        "    \"saturday\",\n",
        "    \"sunday\",\n",
        "]"
      ]
    },
    {
      "cell_type": "code",
      "execution_count": null,
      "metadata": {
        "id": "QV0sYYxdCTHZ"
      },
      "outputs": [],
      "source": [
        "# Your code"
      ]
    },
    {
      "cell_type": "markdown",
      "metadata": {
        "id": "eZeRj_HGCh6g"
      },
      "source": [
        "## <font color=\"green\"> Even and odd numbers </font>\n",
        "\n",
        "Construct the list `even_numbers` of even numbers from the list odd_numbers: for this, you can iterate over `odd_numbers` and add 1 to each element before adding it to `even_numbers`."
      ]
    },
    {
      "cell_type": "code",
      "execution_count": 5,
      "metadata": {
        "id": "CRNiFtmy57nk"
      },
      "outputs": [],
      "source": [
        "odd_numbers = [1, 3, 5, 7, 9, 11, 13, 15, 17, 19, 21]"
      ]
    },
    {
      "cell_type": "code",
      "execution_count": null,
      "metadata": {
        "id": "bA36AeMICism"
      },
      "outputs": [],
      "source": [
        "# Your code"
      ]
    },
    {
      "cell_type": "markdown",
      "metadata": {
        "id": "-L_ReF8KCnPH"
      },
      "source": [
        "## Calcul de la moyenne\n",
        "\n",
        "\"The grades of a student are contained in the list `grades`. Calculate the average. Display the average value with two decimal places.\""
      ]
    },
    {
      "cell_type": "code",
      "execution_count": 19,
      "metadata": {
        "id": "OuZ1ZpNi5q0R"
      },
      "outputs": [],
      "source": [
        "grades = [70, 45, 30, 40, 60]"
      ]
    },
    {
      "cell_type": "code",
      "execution_count": null,
      "metadata": {
        "id": "wCicBNyFCnxd"
      },
      "outputs": [],
      "source": [
        "# Your code"
      ]
    },
    {
      "cell_type": "markdown",
      "metadata": {
        "id": "WNaMDchHCuoL"
      },
      "source": [
        "## <font color=\"green\"> Product of consecutive even integers </font>\n",
        "\n",
        "Using the functions [`list`](https://docs.python.org/fr/3/library/functions.html#list) and [`range`](https://docs.python.org/fr/3/library/functions.html#range), create the list `a` containing the even integers from 2 to 20 inclusive.\n",
        "\n",
        "Then, calculate the product of consecutive numbers from `a` two by two from using a loop and print them line by line.\n",
        "\n",
        "Example for the first iterations:\n",
        "```\n",
        "8\n",
        "24\n",
        "48\n",
        "[...]\n",
        "```"
      ]
    },
    {
      "cell_type": "code",
      "execution_count": null,
      "metadata": {
        "id": "SVD8NuDoCvZm"
      },
      "outputs": [],
      "source": [
        "# Your code"
      ]
    },
    {
      "cell_type": "markdown",
      "metadata": {
        "id": "3IUmpHDTC3_G"
      },
      "source": [
        "## <font color=\"green\">Triangle</font>\n",
        "\n",
        "Write code to draw a triangle like this one:\n",
        "```\n",
        "*\n",
        "**\n",
        "***\n",
        "****\n",
        "*****\n",
        "******\n",
        "*******\n",
        "********\n",
        "*********\n",
        "**********\n",
        "```"
      ]
    },
    {
      "cell_type": "code",
      "execution_count": null,
      "metadata": {
        "id": "nE5lw41zC5Ge"
      },
      "outputs": [],
      "source": [
        "# Your code"
      ]
    },
    {
      "cell_type": "markdown",
      "metadata": {
        "id": "f7rBdCRIDBJq"
      },
      "source": [
        "## Upside-down triangle\n",
        "\n",
        "Write code to draw a triangle like this one:\n",
        "```\n",
        "**********\n",
        "*********\n",
        "********\n",
        "*******\n",
        "******\n",
        "*****\n",
        "****\n",
        "***\n",
        "**\n",
        "*\n",
        "```"
      ]
    },
    {
      "cell_type": "code",
      "execution_count": 31,
      "metadata": {
        "id": "TLHd5U_SDCna"
      },
      "outputs": [],
      "source": [
        "# Your code"
      ]
    },
    {
      "cell_type": "markdown",
      "metadata": {
        "id": "1nwk63yZE33g"
      },
      "source": [
        "## <font color=\"green\"> Flea jumps </font>\n",
        "\n",
        "Let's consider a flea that moves randomly on a graduated line, forward or backward, by steps of 1 or -1. For example, if it is at location 0, it can jump to location 1 or -1; if it is at location 2, it can jump to location 3 or 1, and so on.\n",
        "\n",
        "Using a while loop, simulate the movement of a flea starting from the initial location 0 and stopping as soon as it reaches location 5. Plan to count the number of jumps made during the journey.\n",
        "\n",
        "Tip: You can use the random.choice([-1, 1]) statement, which randomly returns the values -1 or 1 with the same probability. Before using this statement, you need to import the random library as follows:\n",
        "```python\n",
        "import random\n",
        "```"
      ]
    },
    {
      "cell_type": "code",
      "execution_count": 34,
      "metadata": {
        "id": "zETPpRo9E79_"
      },
      "outputs": [],
      "source": [
        "# Your code"
      ]
    },
    {
      "cell_type": "markdown",
      "metadata": {
        "id": "Ka5R8JlWFFO0"
      },
      "source": [
        "## <font color=\"green\"> Fibonacci sequence </font>\n",
        "\n",
        "The [Fibonacci sequence](https://en.wikipedia.org/wiki/Fibonacci_sequence) is a mathematical sequence named after Leonardo Fibonacci, an Italian mathematician from the 13th century. Initially, this sequence was designed to describe the growth of a population of rabbits, but it can also be used to describe certain geometric patterns found in nature (shells, sunflower seeds, etc.).\n",
        "\n",
        "The Fibonacci sequence $(F_n)$ is defined by $x_0 = 0$, $x_1 = 1$, and for all $n > 1$, $F_n = F_{n − 1} + F_{n − 2}$ (meaning each term is the sum of the two preceding terms).\n",
        "\n",
        "For example, the first 10 terms of the Fibonacci sequence are 0, 1, 1, 2, 3, 5, 8, 13, 21, and 34.\n",
        "\n",
        "Create a script that calculates a list `fibo` with the first 20 terms of the Fibonacci sequence and then displays it.\n",
        "\n",
        "Improve this script by displaying, for each element of the list `fibo` with $n > 1$, the ratio between the element of rank $n$ and the element of rank $n − 1$."
      ]
    },
    {
      "cell_type": "code",
      "execution_count": 44,
      "metadata": {
        "id": "WdoAuq5RFIdI"
      },
      "outputs": [],
      "source": [
        "# Your code"
      ]
    },
    {
      "cell_type": "markdown",
      "metadata": {
        "id": "Ujfb-tjxdJZ_"
      },
      "source": [
        "For your information, the ratio $\\frac{\\text{F}_n}{\\text{F}_{n - 1}}$ converges to the [golden ratio](https://en.wikipedia.org/wiki/Golden_ratio)."
      ]
    },
    {
      "cell_type": "markdown",
      "metadata": {},
      "source": []
    }
  ],
  "metadata": {
    "colab": {
      "collapsed_sections": [
        "I0uHJaVcLEX9",
        "u8_BWoPxLAJ1",
        "LlN9o1_gMqX_",
        "1ibTFsmdM-Zn",
        "FxjzIiziNOL5",
        "FQIm7KlIOCwF",
        "UfhTGcLhFgLw",
        "g6Fety22OtCv",
        "oaAqCpnZO-VY",
        "UmmC4BKPXgfq",
        "csoKNZSpYQko",
        "zb9W_RY5cmbw",
        "htKqRYjyeq_u",
        "zyCiCKSzfu4P"
      ],
      "private_outputs": true,
      "provenance": [],
      "toc_visible": true
    },
    "kernelspec": {
      "display_name": "Python 3",
      "name": "python3"
    },
    "language_info": {
      "codemirror_mode": {
        "name": "ipython",
        "version": 3
      },
      "file_extension": ".py",
      "mimetype": "text/x-python",
      "name": "python",
      "nbconvert_exporter": "python",
      "pygments_lexer": "ipython3",
      "version": "3.11.4"
    }
  },
  "nbformat": 4,
  "nbformat_minor": 0
}
