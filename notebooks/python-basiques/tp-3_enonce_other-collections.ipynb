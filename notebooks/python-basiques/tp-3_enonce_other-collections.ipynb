{
  "cells": [
    {
      "cell_type": "markdown",
      "metadata": {
        "id": "b_KsqCE0Ao6Q"
      },
      "source": [
        "# Dictionnaires, n-uplets et ensembles"
      ]
    },
    {
      "cell_type": "markdown",
      "metadata": {
        "id": "FNBe5XLbArid"
      },
      "source": [
        "## Bigrammes et trigrammes de lettres\n",
        "\n",
        "Créez un code affiche comme argument une séquence sous la forme d'une chaîne de caractères et un $n$ sur la taille des sous mots à renvoyer et qui renvoie tous les « mots » de $n$ lettres qui existent dans la séquence sous la forme d'un dictionnaire. Par exemple pour la séquence `le chat ronronne` et $n = 2$, le dictionnaire renvoyé serait :\n",
        "\n",
        "```python\n",
        "{'le': 1, 'e ': 1, ' c': 1, 'ch': 1, 'ha': 1, 'at': 1, 't ': 1, ' r': 1, 'ro': 2, 'on': 2, 'nr': 1, 'nn': 1, 'ne': 1}\n",
        "```"
      ]
    },
    {
      "cell_type": "code",
      "execution_count": null,
      "metadata": {
        "id": "QJE-Tqz6BGFs"
      },
      "outputs": [],
      "source": [
        "# Votre code ici"
      ]
    },
    {
      "cell_type": "markdown",
      "metadata": {
        "id": "1qnK5qbUMlCZ"
      },
      "source": [
        "## Quelle personne choisir ?\n",
        "\n",
        "Vous voulez embaucher une personne pour une mission en C++ et Python. Vous avez à votre disposition les informations suivantes (sous forme d'un dictionnaire avec un nom pour clef et des compétences pour valeur).\n",
        "\n",
        "```python\n",
        "competences = {'Alice': ['SAS', 'Python', 'R'],\n",
        "               'Bob': ['HTML', 'JavaScript', 'CSS'],\n",
        "               'Laura': ['C++', 'ASM', 'Python', 'CUDA']}\n",
        "mission = ['C++', 'Python']\n",
        "```\n",
        "\n",
        "Écrivez la fonction `filtre_personnes` qui renvoie les noms des personnes compétentes."
      ]
    },
    {
      "cell_type": "code",
      "execution_count": null,
      "metadata": {
        "id": "AjTsBq9LN1IP"
      },
      "outputs": [],
      "source": [
        "# Votre code ici"
      ]
    },
    {
      "cell_type": "markdown",
      "metadata": {
        "id": "qksEY7dvlICm"
      },
      "source": [
        "## Fusion de deux dictionnaires\n",
        "\n",
        "Dans cet exercice, on souhaite fusionner des dictionnaires en créant des listes de leurs valeurs :\n",
        "\n",
        "`fusion({\"A\": 1, \"B\": 2}, {\"A\": 3})` retournerait `{\"A\": [1, 3], \"B\": [2]}`."
      ]
    },
    {
      "cell_type": "code",
      "execution_count": null,
      "metadata": {
        "id": "99d6UsSsnIaH"
      },
      "outputs": [],
      "source": [
        "# Votre code ici"
      ]
    },
    {
      "cell_type": "markdown",
      "metadata": {
        "id": "zu4btiMqR5hy"
      },
      "source": [
        "## Manipulation d'ensembles\n",
        "\n",
        "Étant donné les ensembles de caractéristiques de langages de programmation suivants (vous pourrez consulter [la page d'aide](https://docs.python.org/3/library/stdtypes.html#set-types-set-frozenset) des ensembles pendant l'exercice) :\n",
        "\n",
        "- Trouvez les caractéristiques communes au JavaScript et au Python\n",
        "- Trouvez les caractéristiques exclusives du Java par rapport au Python\n",
        "- Quel est l'ensemble complet des caractéristiques ?\n",
        "- Quelles sont les caractéristiques exclusives du Python par rapport à tous les autres langages ?"
      ]
    },
    {
      "cell_type": "code",
      "execution_count": 16,
      "metadata": {
        "id": "hHWC0bWvS0Le"
      },
      "outputs": [],
      "source": [
        "js = {\"typage dynamique\", \"interprété\", \"web natif\", \"orienté prototype\"}\n",
        "python = {\"typage dynamique\", \"interprété\", \"calcul scientifique\", \"orienté objet\"}\n",
        "java = {\"compilé\", \"orienté objet\", \"typage statique\"}\n",
        "\n",
        "langages = [js, python, java]"
      ]
    },
    {
      "cell_type": "code",
      "execution_count": 24,
      "metadata": {
        "id": "KRm-9WB9Sh3o"
      },
      "outputs": [
        {
          "name": "stdout",
          "output_type": "stream",
          "text": [
            "{'typage dynamique', 'interprété'}\n",
            "{'typage statique', 'compilé'}\n",
            "{'typage statique', 'compilé', 'typage dynamique', 'orienté objet', 'interprété', 'calcul scientifique'}\n",
            "{'calcul scientifique'}\n"
          ]
        }
      ],
      "source": [
        "print(js & python)\n",
        "print(java - python)\n",
        "print(set().union(*langages))\n",
        "print(python.difference(js, java))"
      ]
    },
    {
      "cell_type": "code",
      "execution_count": 13,
      "metadata": {},
      "outputs": [
        {
          "name": "stdout",
          "output_type": "stream",
          "text": [
            "None\n"
          ]
        }
      ],
      "source": [
        "print(langages.remove(js))"
      ]
    },
    {
      "cell_type": "code",
      "execution_count": 14,
      "metadata": {},
      "outputs": [
        {
          "data": {
            "text/plain": [
              "[{'calcul scientifique', 'interprété', 'orienté objet', 'typage dynamique'},\n",
              " {'compilé', 'orienté objet', 'typage statique'}]"
            ]
          },
          "execution_count": 14,
          "metadata": {},
          "output_type": "execute_result"
        }
      ],
      "source": [
        "langages"
      ]
    },
    {
      "cell_type": "code",
      "execution_count": null,
      "metadata": {},
      "outputs": [],
      "source": []
    }
  ],
  "metadata": {
    "colab": {
      "collapsed_sections": [
        "lkFqrsDm6Yfa",
        "wp9QBijGXn2c",
        "X6VsxV-LBHxS",
        "IoqaeU-8N7hI",
        "bkx-PtbwnHfH",
        "ebbXsV5qSaFu"
      ],
      "private_outputs": true,
      "provenance": []
    },
    "kernelspec": {
      "display_name": "Python 3",
      "name": "python3"
    },
    "language_info": {
      "codemirror_mode": {
        "name": "ipython",
        "version": 3
      },
      "file_extension": ".py",
      "mimetype": "text/x-python",
      "name": "python",
      "nbconvert_exporter": "python",
      "pygments_lexer": "ipython3",
      "version": "3.13.0"
    }
  },
  "nbformat": 4,
  "nbformat_minor": 0
}
