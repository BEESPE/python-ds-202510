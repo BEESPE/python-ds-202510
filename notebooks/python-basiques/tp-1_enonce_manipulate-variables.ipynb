{
  "cells": [
    {
      "cell_type": "markdown",
      "metadata": {
        "id": "Ul64I7HrcC7g"
      },
      "source": [
        "# <font color=\"purple\">Manipulate variable</font>"
      ]
    },
    {
      "cell_type": "markdown",
      "metadata": {
        "id": "mV5WnfS6anIO"
      },
      "source": [
        "### <font color=\"green\"> Strings: operations </font>\n",
        "\n",
        "We mentioned that, in Python, the `*` and `+` operators are defined for strings.\n",
        "\n",
        "*Experiment their functionality.*"
      ]
    },
    {
      "cell_type": "code",
      "execution_count": 14,
      "metadata": {
        "id": "4-YCNcadaiUK"
      },
      "outputs": [],
      "source": [
        "test_string = \"Test string.\"\n",
        "\n",
        "# Your code"
      ]
    },
    {
      "cell_type": "markdown",
      "metadata": {
        "id": "howBtiw6a-7K"
      },
      "source": [
        "*Using the [`print`](https://docs.python.org/3/library/functions.html#print) function, display a line of 80 pipes, like this one:*\n",
        "\n",
        "```\n",
        "||||||||||||||||||||||||||||||||||||||||||||||||||||||||||||||||||||||||||||||||\n",
        "```"
      ]
    },
    {
      "cell_type": "code",
      "execution_count": 15,
      "metadata": {
        "id": "VuotPTJYb3V0"
      },
      "outputs": [],
      "source": [
        "# Your code"
      ]
    },
    {
      "cell_type": "markdown",
      "metadata": {},
      "source": [
        "### <font color=\"green\"> Strings and numeric types: operations </font>"
      ]
    },
    {
      "cell_type": "markdown",
      "metadata": {
        "id": "U_GTI_zQcrUQ"
      },
      "source": [
        "Try to guess the results of these operations:\n",
        "\n",
        "1. `(1 + 2) ** 4`\n",
        "2. `\"Na\" * 4`\n",
        "3. `\"Na\" + 4`\n",
        "4. `(\"Na\" + \"Ni\") * 4`\n",
        "5. `(\"Na\" * 4) / 4`\n",
        "6. `\"Na\" + \"4\"`\n",
        "7. `7 / 4`\n",
        "8. `7 // 4`\n",
        "9. `7 % 4`\n",
        "\n",
        "Then, check your results by executing the corresponding code."
      ]
    },
    {
      "cell_type": "code",
      "execution_count": 17,
      "metadata": {},
      "outputs": [],
      "source": [
        "# Your code"
      ]
    },
    {
      "cell_type": "markdown",
      "metadata": {},
      "source": [
        "### <font color=\"green\"> Strings, numeric types and booleans: type conversion </font>"
      ]
    },
    {
      "cell_type": "markdown",
      "metadata": {
        "id": "vYA-HAm-dYAK"
      },
      "source": [
        "Try to guess the results of these operations:\n",
        "\n",
        "1. `int(\"2\") * int(\"3\")`\n",
        "2. `str(2) * int(\"3\")`\n",
        "3. `str(\"2\") * int(3)`\n",
        "4. `int(\"2\") + float(\"3.4\")`\n",
        "5. `str(2) * float(3)`\n",
        "6. `str(3/4) * 2`\n",
        "7. `int(2) * bool(3)`\n",
        "8. `str(2) * bool(3)`\n",
        "9. `bool(0) * str(2)`\n",
        "\n",
        "Then, check your results by executing the corresponding code."
      ]
    },
    {
      "cell_type": "code",
      "execution_count": 19,
      "metadata": {},
      "outputs": [],
      "source": [
        "# Your code"
      ]
    }
  ],
  "metadata": {
    "colab": {
      "collapsed_sections": [
        "ATLOcnM0sXtY",
        "CvTjYf2CrHDK",
        "Gp6QVEzXr9vb"
      ],
      "private_outputs": true,
      "provenance": []
    },
    "kernelspec": {
      "display_name": "Python 3",
      "name": "python3"
    },
    "language_info": {
      "codemirror_mode": {
        "name": "ipython",
        "version": 3
      },
      "file_extension": ".py",
      "mimetype": "text/x-python",
      "name": "python",
      "nbconvert_exporter": "python",
      "pygments_lexer": "ipython3",
      "version": "3.11.4"
    }
  },
  "nbformat": 4,
  "nbformat_minor": 0
}
