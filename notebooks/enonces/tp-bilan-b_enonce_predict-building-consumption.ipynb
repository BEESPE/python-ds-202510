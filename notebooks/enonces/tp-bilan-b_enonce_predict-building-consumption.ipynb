{
 "cells": [
  {
   "cell_type": "markdown",
   "metadata": {},
   "source": [
    "# TP : Prédiction de la consommation énergétique de bâtiments\n",
    "Dans ce TP, vous allez développer un modèle de prédiction de la consommation énergétique des bâtiments en utilisant un dataset avec différentes caractéristiques. L'objectif est de préparer les données, d'entraîner un modèle de régression et d'évaluer sa performance. Ce modèle sera utilisé pour estimer la consommation de futurs bâtiments, pour lesquels on ne dispose pas encore de relevé fiable."
   ]
  },
  {
   "cell_type": "markdown",
   "id": "faf75f0d",
   "metadata": {},
   "source": [
    "## Chargement des données et exploration initiale\n",
    "La première étape consiste à charger les données et à effectuer une première exploration pour comprendre leur structure. Chargez le fichier building_energy_benchmarking.csv et affichez les premières lignes du dataset."
   ]
  },
  {
   "cell_type": "code",
   "execution_count": null,
   "id": "abc123",
   "metadata": {},
   "outputs": [],
   "source": [
    "# Votre code ici"
   ]
  },
  {
   "cell_type": "markdown",
   "id": "18441b39",
   "metadata": {},
   "source": [
    "## Filtrage des données invalides\n",
    "Proposer un moyen de filtrer les données en fonction de la valeur dans la colonne `DefaultData`, qui indique si ce sont des données synthétiques, qu'on va considérer comme non représentatives pour notre futur model."
   ]
  },
  {
   "cell_type": "code",
   "execution_count": null,
   "id": "def456",
   "metadata": {},
   "outputs": [],
   "source": [
    "# Votre code ici"
   ]
  },
  {
   "cell_type": "markdown",
   "id": "c16b7d87",
   "metadata": {},
   "source": [
    "## Préparation des données\n",
    "Il est maintenant temps de préparer les caractéristiques et la cible pour l'entraînement du modèle. Sélectionnez les colonnes pertinentes pour l'entraînement et préparez la variable cible `SiteEnergyUse(kBtu)`."
   ]
  },
  {
   "cell_type": "code",
   "execution_count": null,
   "id": "ghi789",
   "metadata": {},
   "outputs": [],
   "source": [
    "# Votre code ici"
   ]
  },
  {
   "cell_type": "markdown",
   "id": "5aa20af7",
   "metadata": {},
   "source": [
    "### Gestion des valeurs manquantes\n",
    "\n",
    "Avant d'entraîner notre modèle, il est crucial de gérer les valeurs manquantes dans le jeu de données. Les valeurs manquantes peuvent provenir de données non collectées ou d'informations non applicables à certaines propriétés. \n",
    "\n",
    "1. Identifiez les colonnes qui contiennent des valeurs manquantes.\n",
    "2. Décidez d'une stratégie de gestion, comme le remplissage avec une valeur par défaut, la moyenne/médiane ou la suppression des lignes/colonnes concernées.\n",
    "3. Implémentez cette stratégie pour vous assurer que le jeu de données est prêt pour l'analyse et la modélisation.\n"
   ]
  },
  {
   "cell_type": "code",
   "execution_count": null,
   "id": "c3adfb82",
   "metadata": {},
   "outputs": [],
   "source": [
    "# Votre code ici"
   ]
  },
  {
   "cell_type": "markdown",
   "id": "171cdd01",
   "metadata": {},
   "source": [
    "### Ratios des sources d'énergie"
   ]
  },
  {
   "cell_type": "markdown",
   "id": "910f827e",
   "metadata": {},
   "source": [
    "En particulier, même si on ne dispose pas de relevés des valeurs absolues, on va supposer qu'on connaîtra la répartition relative des sources d'énergie du futur bâtiment, et que cela peut avoir un impact sur la modélisation de sa consommation future. Ajoutez une étape pour calculer la proportion de l'énergie totale consommée par chaque source disponible dans le jeu de données.\n"
   ]
  },
  {
   "cell_type": "code",
   "execution_count": null,
   "id": "f905bd2e",
   "metadata": {},
   "outputs": [],
   "source": [
    "# Votre code ici"
   ]
  },
  {
   "cell_type": "markdown",
   "id": "eb544e8f",
   "metadata": {},
   "source": [
    "### Encodage personnalisé des types d’usage avec les surfaces"
   ]
  },
  {
   "cell_type": "markdown",
   "id": "f3a57c6b",
   "metadata": {},
   "source": [
    "!! Attention question plus difficile !!\n",
    "\n",
    "Dans cette étape, nous allons encoder les colonnes représentant les types d’usage des bâtiments (type primaire, secondaire, et tertiaire) en créant une nouvelle colonne pour chaque type d’usage unique présent dans le dataset.\n",
    "\n",
    "Cible -> chaque colonne représentera un type d’usage, et sa valeur contiendra :\n",
    "- La superficie de l’usage primaire si ce type est l’usage primaire du bâtiment.\n",
    "- La superficie de l’usage secondaire si ce type est l’usage secondaire.\n",
    "- La superficie de l’usage tertiaire si ce type est l’usage tertiaire.\n",
    "- 0 si ce type d’usage n’est pas associé au bâtiment.\n",
    "\n",
    "Étapes à suivre :\n",
    "- Identifier toutes les modalités uniques des types d’usage présentes dans les colonnes LargestPropertyUseType, SecondLargestPropertyUseType, et ThirdLargestPropertyUseType.\n",
    "- Créer une colonne pour chaque type d’usage.\n",
    "- Renseigner la superficie correspondante pour chaque bâtiment dans la colonne associée au type d’usage, en fonction de son rôle (primaire, secondaire, ou tertiaire).\n",
    "- Remplir les valeurs par 0 pour les colonnes des types d’usage qui ne s’appliquent pas au bâtiment."
   ]
  },
  {
   "cell_type": "code",
   "execution_count": null,
   "id": "05ae40eb",
   "metadata": {},
   "outputs": [],
   "source": [
    "# Votre code ici"
   ]
  },
  {
   "cell_type": "markdown",
   "id": "331688bb",
   "metadata": {},
   "source": [
    "Créer un X (contenant toutes et uniquement les colonnes explicatives du dataframe) et un y (contenant la cible)."
   ]
  },
  {
   "cell_type": "code",
   "execution_count": null,
   "id": "57bd7e05",
   "metadata": {},
   "outputs": [],
   "source": [
    "# Votre code ici"
   ]
  },
  {
   "cell_type": "markdown",
   "id": "d87b76b8",
   "metadata": {},
   "source": [
    "## Prétraitement des données : Mise à l'échelle et encodage\n",
    "Nous devons maintenant normaliser les données numériques et encoder les variables catégorielles. Utilisez `StandardScaler` pour la normalisation et `pd.get_dummies` pour encoder la variable catégorielle `Neighborhood`."
   ]
  },
  {
   "cell_type": "code",
   "execution_count": null,
   "id": "6843ed8e",
   "metadata": {},
   "outputs": [],
   "source": [
    "# Votre code ici"
   ]
  },
  {
   "cell_type": "markdown",
   "id": "1fe4cc36",
   "metadata": {},
   "source": [
    "## Entraînement du modèle de régression linéaire\n",
    "Cette cellule utilise un modèle de régression linéaire pour prédire la consommation d'énergie (`SiteEnergyUse(kBtu)`) en fonction des caractéristiques préparées. Elle réalise l'entraînement du modèle sur les données d'entraînement. En adaptant les noms de variables si besoin, l'exécuter et observer son résultat.\n"
   ]
  },
  {
   "cell_type": "code",
   "execution_count": null,
   "id": "mno345",
   "metadata": {},
   "outputs": [],
   "source": [
    "from sklearn.linear_model import LinearRegression\n",
    "from sklearn.model_selection import train_test_split\n",
    "\n",
    "# Diviser les données en ensembles d'entraînement et de test\n",
    "X_train, X_test, y_train, y_test = train_test_split(X_scaled, y, test_size=0.2, random_state=42)\n",
    "\n",
    "# Entraîner le modèle de régression linéaire\n",
    "model = LinearRegression()\n",
    "model.fit(X_train, y_train)\n",
    "\n",
    "# Afficher les coefficients du modèle\n",
    "model.coef_"
   ]
  },
  {
   "cell_type": "markdown",
   "id": "682078fd",
   "metadata": {},
   "source": [
    "## Évaluation du modèle\n",
    "Cette cellule sert à évaluer la performance du modèle en calculant l'erreur quadratique moyenne (MSE) et le coefficient de détermination R² sur les données de test. En adaptant les noms de variables si besoin, l'exécuter et observer son résultat."
   ]
  },
  {
   "cell_type": "code",
   "execution_count": null,
   "id": "pqr678",
   "metadata": {},
   "outputs": [],
   "source": [
    "from sklearn.metrics import mean_squared_error, r2_score\n",
    "\n",
    "# Faire des prédictions sur les données de test\n",
    "y_pred = model.predict(X_test)\n",
    "\n",
    "# Calculer les métriques d'évaluation\n",
    "mse = mean_squared_error(y_test, y_pred)\n",
    "r2 = r2_score(y_test, y_pred)\n",
    "\n",
    "print(f\"Mean Squared Error: {mse}\")\n",
    "print(f\"R-squared: {r2}\")"
   ]
  },
  {
   "cell_type": "markdown",
   "id": "ef243781",
   "metadata": {},
   "source": [
    "## Visualisations des résultats\n",
    "Enfin, visualisez les résultats en traçant un graphique des prédictions vs valeurs réelles et un histogramme des erreurs."
   ]
  },
  {
   "cell_type": "code",
   "execution_count": null,
   "id": "stu901",
   "metadata": {},
   "outputs": [],
   "source": [
    "# Votre code ici"
   ]
  }
 ],
 "metadata": {
  "kernelspec": {
   "display_name": "test-yOZBwoax-py3.11",
   "language": "python",
   "name": "python3"
  },
  "language_info": {
   "codemirror_mode": {
    "name": "ipython",
    "version": 3
   },
   "file_extension": ".py",
   "mimetype": "text/x-python",
   "name": "python",
   "nbconvert_exporter": "python",
   "pygments_lexer": "ipython3",
   "version": "3.11.4"
  }
 },
 "nbformat": 4,
 "nbformat_minor": 5
}
