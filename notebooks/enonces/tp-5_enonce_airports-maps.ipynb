{
 "cells": [
  {
   "cell_type": "markdown",
   "metadata": {},
   "source": [
    "# Carte des aéroports aux États-Unis et en France"
   ]
  },
  {
   "cell_type": "markdown",
   "metadata": {},
   "source": [
    "## Carte \"statique\""
   ]
  },
  {
   "cell_type": "code",
   "execution_count": null,
   "metadata": {},
   "outputs": [],
   "source": [
    "import pandas as pd\n",
    "import geopandas as gpd\n",
    "import matplotlib.pyplot as plt"
   ]
  },
  {
   "cell_type": "markdown",
   "metadata": {},
   "source": [
    "Charger les données dans un dataframe."
   ]
  },
  {
   "cell_type": "code",
   "execution_count": null,
   "metadata": {},
   "outputs": [],
   "source": [
    "url_airports = \"https://davidmegginson.github.io/ourairports-data/airports.csv\"\n",
    "airports = ...  # à compléter"
   ]
  },
  {
   "cell_type": "markdown",
   "metadata": {},
   "source": [
    "Créer deux dataframes, un pour les aéroports des états-unis, l'autre pour les aéroports français."
   ]
  },
  {
   "cell_type": "code",
   "execution_count": null,
   "metadata": {},
   "outputs": [],
   "source": [
    "us_airports = ...  # à compléter\n",
    "fr_airports = ...  # à compléter"
   ]
  },
  {
   "cell_type": "markdown",
   "metadata": {},
   "source": [
    "Convertir les dataframes en GeoDataFrames (longitude, latitude) grâce à geopandas."
   ]
  },
  {
   "cell_type": "code",
   "execution_count": null,
   "metadata": {},
   "outputs": [],
   "source": [
    "gdf_us_airports = gpd.GeoDataFrame(\n",
    "    us_airports,\n",
    "    geometry=gpd.points_from_xy(us_airports.longitude_deg, us_airports.latitude_deg),\n",
    "    crs=\"EPSG:4326\"\n",
    ")\n",
    "\n",
    "gdf_fr_airports = gpd.GeoDataFrame(\n",
    "    fr_airports,\n",
    "    geometry=gpd.points_from_xy(fr_airports.longitude_deg, fr_airports.latitude_deg),\n",
    "    crs=\"EPSG:4326\"\n",
    ")"
   ]
  },
  {
   "cell_type": "markdown",
   "metadata": {},
   "source": [
    "Avec matplotlib, visualiser les aéroports américains sur une carte, en les représentant par des points rouges. Utiliser la syntaxe fig, ax. Ajouter un titre au graphe."
   ]
  },
  {
   "cell_type": "code",
   "execution_count": null,
   "metadata": {},
   "outputs": [],
   "source": [
    "fig, ax = plt.subplots(figsize=(15, 10))\n",
    "gdf_us_airports.plot(...)  # arguments à compléter\n",
    "# à compléter"
   ]
  },
  {
   "cell_type": "markdown",
   "metadata": {},
   "source": [
    "Même question avec les aéroports français."
   ]
  },
  {
   "cell_type": "code",
   "execution_count": null,
   "metadata": {},
   "outputs": [],
   "source": [
    "# à compléter"
   ]
  },
  {
   "cell_type": "markdown",
   "metadata": {},
   "source": [
    "## Utilisation de folium pour faire des visualisations sur une carte interactive"
   ]
  },
  {
   "cell_type": "code",
   "execution_count": null,
   "metadata": {},
   "outputs": [],
   "source": [
    "import folium"
   ]
  },
  {
   "cell_type": "markdown",
   "metadata": {},
   "source": [
    "Trouver les coordonnées de la France pour centrer la carte."
   ]
  },
  {
   "cell_type": "code",
   "execution_count": null,
   "metadata": {},
   "outputs": [],
   "source": [
    "latitude_fr = ...  # à compléter\n",
    "longitude_fr = ...  # à compléter\n",
    "m_fr = folium.Map(location=[latitude_fr, longitude_fr], zoom_start=6)"
   ]
  },
  {
   "cell_type": "markdown",
   "metadata": {},
   "source": [
    "Ajouter les aéroports français à cette carte. Les représenter cette fois sous forme de points verts, de taille (rayon) 3. Rajouter une popup indiquant le nom de l'aéroport lorsqu'on clique dessus."
   ]
  },
  {
   "cell_type": "code",
   "execution_count": null,
   "metadata": {},
   "outputs": [],
   "source": [
    "for idx, row in gdf_fr_airports.iterrows():\n",
    "    folium.CircleMarker(\n",
    "        location=[..., ...],  # à compléter\n",
    "        fill=True,\n",
    "        fill_opacity=0.7,\n",
    "        # à compléter\n",
    "    ).add_to(m_fr)"
   ]
  },
  {
   "cell_type": "markdown",
   "metadata": {},
   "source": [
    "Enregistrer la carte au format html."
   ]
  },
  {
   "cell_type": "code",
   "execution_count": null,
   "metadata": {},
   "outputs": [],
   "source": [
    "# Votre code ici"
   ]
  },
  {
   "cell_type": "markdown",
   "metadata": {},
   "source": [
    "Afficher la carte dans le notebook."
   ]
  },
  {
   "cell_type": "code",
   "execution_count": null,
   "metadata": {},
   "outputs": [],
   "source": [
    "m_fr"
   ]
  },
  {
   "cell_type": "markdown",
   "metadata": {},
   "source": [
    "Afficher la carte via le fichier html."
   ]
  },
  {
   "cell_type": "markdown",
   "metadata": {},
   "source": [
    "Question bonus : visualiser les \"large airports\" avec des marqueurs de couleur et de taille différentes."
   ]
  },
  {
   "cell_type": "code",
   "execution_count": null,
   "metadata": {},
   "outputs": [],
   "source": [
    "# Votre code ici"
   ]
  },
  {
   "cell_type": "markdown",
   "metadata": {},
   "source": [
    "## Utilisation de plotly pour faire des visualisations sur une carte interactive"
   ]
  },
  {
   "cell_type": "markdown",
   "metadata": {},
   "source": [
    "A noter qu'en plus de plotly, il faudrait peut-être installer ou mettre à jour la bibliothèque nbformat : <br>\n",
    "(python -m) pip install --upgrade nbformat"
   ]
  },
  {
   "cell_type": "markdown",
   "metadata": {},
   "source": [
    "### Plotly express"
   ]
  },
  {
   "cell_type": "code",
   "execution_count": null,
   "metadata": {},
   "outputs": [],
   "source": [
    "import plotly.express as px"
   ]
  },
  {
   "cell_type": "markdown",
   "metadata": {},
   "source": [
    "Préparer la carte."
   ]
  },
  {
   "cell_type": "code",
   "execution_count": null,
   "metadata": {},
   "outputs": [],
   "source": [
    "fig = px.scatter_geo(\n",
    "    ...,  # à compléter\n",
    "    lat=...,  # à compléter\n",
    "    lon=...,  # à compléter\n",
    "    color=\"type\",\n",
    "    hover_name=\"name\",\n",
    "    projection=\"natural earth\",\n",
    "    title=...,  # à compléter\n",
    "    opacity=0.7,\n",
    "    color_discrete_sequence=px.colors.qualitative.Safe\n",
    ")\n",
    "\n",
    "fig.update_layout(\n",
    "    geo=dict(\n",
    "        scope=\"europe\",\n",
    "        showland=True,\n",
    "        landcolor=\"rgb(243, 243, 243)\",\n",
    "        countrycolor=\"rgb(204, 204, 204)\"\n",
    "    )\n",
    ")"
   ]
  },
  {
   "cell_type": "markdown",
   "metadata": {},
   "source": [
    "Afficher la carte."
   ]
  },
  {
   "cell_type": "code",
   "execution_count": null,
   "metadata": {},
   "outputs": [],
   "source": [
    "# Votre code ici"
   ]
  },
  {
   "cell_type": "markdown",
   "metadata": {},
   "source": [
    "Exporter la carte au format html. Au besoin, trouver la syntaxe dans la documentation de plotly ou sur Internet ;)"
   ]
  },
  {
   "cell_type": "code",
   "execution_count": null,
   "metadata": {},
   "outputs": [],
   "source": [
    "# Votre code ici"
   ]
  },
  {
   "cell_type": "markdown",
   "metadata": {},
   "source": [
    "### Plotly graph objects"
   ]
  },
  {
   "cell_type": "code",
   "execution_count": null,
   "metadata": {},
   "outputs": [],
   "source": [
    "import plotly.graph_objects as go"
   ]
  },
  {
   "cell_type": "markdown",
   "metadata": {},
   "source": [
    "Instancier une figure vide."
   ]
  },
  {
   "cell_type": "code",
   "execution_count": null,
   "metadata": {},
   "outputs": [],
   "source": [
    "fig = ..."
   ]
  },
  {
   "cell_type": "markdown",
   "metadata": {},
   "source": [
    "Ajouter à cette figure les aéroports de type \"large_airport\" en rouge (en repartant directement des GeoDataFrames différenciés)."
   ]
  },
  {
   "cell_type": "code",
   "execution_count": null,
   "metadata": {},
   "outputs": [],
   "source": [
    "fig.add_trace(go.Scattergeo(\n",
    "    lon=...,  # à compléter\n",
    "    lat=...,  # à compléter\n",
    "    text=...,  # à compléter\n",
    "    mode='markers',\n",
    "    marker=dict(\n",
    "        size=...,  # à compléter\n",
    "        color=...,  # à compléter\n",
    "        opacity=0.8,\n",
    "        symbol=...,  # à compléter\n",
    "    ),\n",
    "    name='Large airports'\n",
    "))"
   ]
  },
  {
   "cell_type": "markdown",
   "metadata": {},
   "source": [
    "Ajouter les autres aéroports."
   ]
  },
  {
   "cell_type": "code",
   "execution_count": null,
   "metadata": {},
   "outputs": [],
   "source": [
    "fig.add_trace(go.Scattergeo(\n",
    "    lon=...,  # à compléter\n",
    "    lat=...,  # à compléter\n",
    "    text=...,  # à compléter\n",
    "    mode='markers',\n",
    "    marker=dict(\n",
    "        size=...,  # à compléter\n",
    "        color=...,  # à compléter\n",
    "        opacity=0.8,\n",
    "        symbol=...,  # à compléter\n",
    "    ),\n",
    "    name='Other airports'\n",
    "))"
   ]
  },
  {
   "cell_type": "markdown",
   "metadata": {},
   "source": [
    "Configurer la carte."
   ]
  },
  {
   "cell_type": "code",
   "execution_count": null,
   "metadata": {},
   "outputs": [],
   "source": [
    "fig.update_layout(\n",
    "    title=...,  # à compléter\n",
    "    geo=dict(\n",
    "        scope='europe',\n",
    "        projection_type='natural earth',\n",
    "        showland=True,\n",
    "        landcolor='rgb(243, 243, 243)',\n",
    "        countrycolor='rgb(204, 204, 204)',\n",
    "        lataxis=dict(range=[41, 52]),\n",
    "        lonaxis=dict(range=[-5, 10])\n",
    "    ),\n",
    "    legend=dict(x=0.8, y=0.1)\n",
    ")"
   ]
  },
  {
   "cell_type": "markdown",
   "metadata": {},
   "source": [
    "Afficher la carte."
   ]
  },
  {
   "cell_type": "code",
   "execution_count": null,
   "metadata": {},
   "outputs": [],
   "source": [
    "# Votre code ici"
   ]
  },
  {
   "cell_type": "markdown",
   "metadata": {},
   "source": [
    "Enregistrer la carte au format html."
   ]
  },
  {
   "cell_type": "code",
   "execution_count": null,
   "metadata": {},
   "outputs": [],
   "source": [
    "# Votre code ici"
   ]
  },
  {
   "cell_type": "code",
   "execution_count": null,
   "metadata": {},
   "outputs": [],
   "source": []
  }
 ],
 "metadata": {
  "kernelspec": {
   "display_name": ".venv",
   "language": "python",
   "name": "python3"
  },
  "language_info": {
   "codemirror_mode": {
    "name": "ipython",
    "version": 3
   },
   "file_extension": ".py",
   "mimetype": "text/x-python",
   "name": "python",
   "nbconvert_exporter": "python",
   "pygments_lexer": "ipython3",
   "version": "3.11.4"
  }
 },
 "nbformat": 4,
 "nbformat_minor": 2
}
