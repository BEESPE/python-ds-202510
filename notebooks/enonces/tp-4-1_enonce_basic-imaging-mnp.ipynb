{
 "cells": [
  {
   "cell_type": "markdown",
   "metadata": {},
   "source": [
    "Importer matplotlib.pyplot, numpy et PIL, en utilisant plt comme alias de matplotlib.pyplot et np comme alias de numpy."
   ]
  },
  {
   "cell_type": "code",
   "execution_count": null,
   "metadata": {},
   "outputs": [],
   "source": [
    "import matplotlib.pyplot as plt\n",
    "import numpy as np\n",
    "from PIL import Image, ImageFilter"
   ]
  },
  {
   "cell_type": "markdown",
   "metadata": {},
   "source": [
    "En utilisant la documentation de PIL, ouvrir l'image de bateau avec cette librairie."
   ]
  },
  {
   "cell_type": "code",
   "execution_count": null,
   "metadata": {},
   "outputs": [],
   "source": [
    "# Votre code ici"
   ]
  },
  {
   "cell_type": "markdown",
   "metadata": {},
   "source": [
    "Créer un vecteur numpy (un tableau qui contient les valeurs des pixels) de l'image en utilisant la fonction np.array()."
   ]
  },
  {
   "cell_type": "code",
   "execution_count": null,
   "metadata": {},
   "outputs": [],
   "source": [
    "img_array = ... # Votre code ici"
   ]
  },
  {
   "cell_type": "markdown",
   "metadata": {},
   "source": [
    "Afficher le type de ce vecteur, sa taille. Afficher le type des éléments du vecteur à l'aide de .dtype. Observer également l'output de .flags.writeable appliquée à cet objet."
   ]
  },
  {
   "cell_type": "code",
   "execution_count": null,
   "metadata": {},
   "outputs": [],
   "source": [
    "# Votre code ici"
   ]
  },
  {
   "cell_type": "markdown",
   "metadata": {},
   "source": [
    "Vérifier qu'il est possible de modifier la valeur d'un élément du tableau. Au besoin, chercher sur internet comment modifier une valeur dans un tel tableau numpy."
   ]
  },
  {
   "cell_type": "code",
   "execution_count": null,
   "metadata": {},
   "outputs": [],
   "source": [
    "# Votre code ici"
   ]
  },
  {
   "cell_type": "markdown",
   "metadata": {},
   "source": [
    "Nous avons donc généré un vecteur de classe numpy.ndarray, contenant des valeurs de type uint8, de 3 dimensions dont la forme est (hauteur, largeur, nombre de canaux (Rouge, Vert, Bleu)). Ce vecteur est modifiable (vous pouvez modifier les valeurs de chaque pixel).\n",
    "\n",
    "Créer un tableau numpy grâce à la fonction np.asarray(). Vérifier que la taille et le type des valeurs sont cohérents, et si ce tableau est modifiable ou non."
   ]
  },
  {
   "cell_type": "code",
   "execution_count": null,
   "metadata": {},
   "outputs": [],
   "source": [
    "# Votre code ici"
   ]
  },
  {
   "cell_type": "markdown",
   "metadata": {},
   "source": [
    "Note : La fonction numpy.asarray de NumPy a commencé à renvoyer un objet non inscriptible (non-writeable) à partir de la version 1.17.0 de NumPy. Avant cette version, l'objet renvoyé était inscriptible (writeable) par défaut. Cette modification a été apportée pour améliorer la sécurité des données et éviter les problèmes potentiels liés à la modification involontaire des données. NumPy 1.17.0 a été publié le 21 juillet 2019. Selon votre version de numpy vous pourrez observer des comportements légèrement différents."
   ]
  },
  {
   "cell_type": "markdown",
   "metadata": {},
   "source": [
    "Si votre tableau n'est pas modifiable, vérifier qu'il est alors bien impossible d'affecter une valeur à un élément de ce tableau, en essayant une telle manipulation. Une erreur de type ValueError devrait être levée."
   ]
  },
  {
   "cell_type": "code",
   "execution_count": null,
   "metadata": {},
   "outputs": [],
   "source": [
    "# Votre code ici"
   ]
  },
  {
   "cell_type": "markdown",
   "metadata": {},
   "source": [
    "Lorsque nous travaillons avec PIL uniquement, il est possible d'afficher les images grâce à la méthode show(). Ici, numpy est une bibliothèque de manipulations mathématiques plus larges. Un vecteur numpy n'est pas un objet dédié à la représentation d'images. Ainsi il ne dispose pas directement de méthode show().\n",
    "\n",
    "En utilisant la fonction plt.imshow(), afficher l’image à partir du 1er vecteur numpy (modifiable). Le fonctionnement de plt est le suivant : on prépare notre visualisation à l'aide de fonctions de plt (ici, cette étape consiste à appeler plt.imshow() sur le vecteur numpy). Lorsque cette visualisation est prête, on l'affiche en appelant plt.show()."
   ]
  },
  {
   "cell_type": "code",
   "execution_count": null,
   "metadata": {},
   "outputs": [],
   "source": [
    "# Votre code ici"
   ]
  },
  {
   "cell_type": "markdown",
   "metadata": {},
   "source": [
    "Vérifier que le 2nd vecteur numpy (non modifiable) permet également un affichage de l'image qu'il représente."
   ]
  },
  {
   "cell_type": "code",
   "execution_count": null,
   "metadata": {},
   "outputs": [],
   "source": [
    "# Votre code ici"
   ]
  },
  {
   "cell_type": "markdown",
   "metadata": {},
   "source": [
    "Dans cette partie, nous allons générer des images en utilisant numpy. C'est une alternative à la création en utilisant PIL que nous avons déjà vue. Pour représenter une image en mode RGB, il convient de créer un vecteur de 3 dimensions dont la première dimension est la hauteur, la seconde est la largeur et la troisième représente les canaux RGB (chaque canal est représenté par une valeur de type numpy uint8).\n",
    "\n",
    "Créer un vecteur numpy de taille (100, 300, 3) dont les trois canaux de tous les pixels ont pour valeur 0. Vérifier que l'image représentée est bien une image entièrement noire."
   ]
  },
  {
   "cell_type": "code",
   "execution_count": null,
   "metadata": {},
   "outputs": [],
   "source": [
    "# Votre code ici"
   ]
  },
  {
   "cell_type": "markdown",
   "metadata": {},
   "source": [
    "Remplir ce vecteur de sorte à créer 3 bandes verticales de couleur unie de même largeur. Vous pouvez choisir les couleurs que vous voulez. Le drapeau le plus esthétique sera celui de notre formation !\n",
    "\n",
    "Souvenez-vous de la manière avec laquelle on accède à un élément donné du tableau. Pour accéder à une plage de valeurs plutôt qu'une seule valeur, on indique les valeurs de départ (inclus) et de fin (exclu) de la plage, en utilisant le caractère \":\" pour les séparer. Ainsi, si v est un vecteur numpy à deux dimension, v[3:10, 2:4] permet d'accéder à la fenêtre de v contenant :\n",
    "- toutes les lignes de la 4e à la 10e incluses (en se rappelant qu'en Python la numérotation commence à 0 et non 1),\n",
    "- la troisième et la quatrième colonne."
   ]
  },
  {
   "cell_type": "code",
   "execution_count": null,
   "metadata": {},
   "outputs": [],
   "source": [
    "# Votre code ici"
   ]
  },
  {
   "cell_type": "markdown",
   "metadata": {},
   "source": [
    "Pour créer une image en nuance de gris (mode \"L\"), il suffit de créer un vecteur à deux dimensions représentant la hauteur et la largeur de l’image (un tableau de taille h x l x 1 est un tableau de taille h x l). Il faut néanmoins ajouter le paramètre cmap='Greys_r' à plt.imshow() pour préciser que nous voulons afficher une image en nuance de gris.\n",
    "\n",
    "Créer de cette manière une nouvelle image avec 3 bandes verticales unies de couleurs respectives noir, gris et blanc."
   ]
  },
  {
   "cell_type": "code",
   "execution_count": null,
   "metadata": {},
   "outputs": [],
   "source": [
    "# Votre code ici"
   ]
  },
  {
   "cell_type": "markdown",
   "metadata": {},
   "source": [
    "Il est possible de faire le chemin inverse et de créer une image PIL à partir d'un tableau numpy, en utilisant la méthode fromarray de la classe PIL Image. A noter que les éléments du tableau numpy doivent être bien typés comme des entiers (si ce n'est pas le cas, les convertir préalablement en entiers).\n",
    "\n",
    "Créer une image PIL à partir de notre drapeau à 3 bandes colorés."
   ]
  },
  {
   "cell_type": "code",
   "execution_count": null,
   "metadata": {},
   "outputs": [],
   "source": [
    "# Votre code ici"
   ]
  },
  {
   "cell_type": "markdown",
   "metadata": {},
   "source": [
    "Enregistrer le résultat sous forme de fichier image avec la méthode save déjà vue. Vous pouvez utiliser l'extension de votre choix."
   ]
  },
  {
   "cell_type": "code",
   "execution_count": null,
   "metadata": {},
   "outputs": [],
   "source": [
    "# Votre code ici"
   ]
  },
  {
   "cell_type": "markdown",
   "metadata": {},
   "source": [
    "Revenons à l'image d'origine chargée dans notre dossier.\n",
    "\n",
    "Nous allons afficher l'histogramme de notre image représentant la répartition des pixels selon leur intensité. Pour le moment, nous mélangeons les canaux de couleur. La fonction flatten() peut nous aider à transformer le vecteur numpy en un autre vecteur numpy avec une seule colonne.\n",
    "\n",
    "Nous allons préparer l'histogramme en :\n",
    "- découpant l'axe des abscisses en 20 sous-ensembles (pour créer un histogramme à 20 bandes),\n",
    "- affichant les ordonnées en fréquence (entre 0 et 1) plutôt qu'en nombre de pixels,\n",
    "- créant une bordure noire autour des bandes de l'histogramme,\n",
    "- colorant les bandes en rouge (plutôt qu'en bleu qui est la couleur par défaut)."
   ]
  },
  {
   "cell_type": "code",
   "execution_count": null,
   "metadata": {},
   "outputs": [],
   "source": [
    "plt.hist(img_array.flatten(), bins=20, density=True, edgecolor=\"black\", color=\"red\")\n",
    "plt.xlabel(\"Intensité\")\n",
    "plt.ylabel(\"Fréquence de pixels\")\n",
    "plt.show()"
   ]
  },
  {
   "cell_type": "markdown",
   "metadata": {},
   "source": [
    "Le filtrage est un élément essentiel du traitement d'images. Dans cette partie, nous allons générer des filtres à partir de la bibliothèque PIL, créer des images filtrées et comparer les histogrammes des deux images (originale et filtrée).\n",
    "\n",
    "Rajouter un import du module ImageFilter de PIL.\n",
    "\n",
    "Utiliser la méthode filter (qui prend en paramètre le filtre à utiliser) pour générer une image avec le filtre ImageFilter.BLUR à partir de notre image d'origine. La stocker dans une nouvelle variable. Pour plus de documentation sur ImageFilter : https://pillow.readthedocs.io/en/stable/reference/ImageFilter.html"
   ]
  },
  {
   "cell_type": "code",
   "execution_count": null,
   "metadata": {},
   "outputs": [],
   "source": [
    "img_blur = # Votre code ici"
   ]
  },
  {
   "cell_type": "markdown",
   "metadata": {},
   "source": [
    "Essayons de comprendre comment ce filtre fonctionne.\n",
    "\n",
    "A partir du travail déjà effectué, nous allons afficher sur la même figure plt les histogrammes superposés des pixels des deux images (en utilisant deux couleurs, par exemple rouge et bleu). Il est possible de jouer sur le paramètre alpha (transparence) de la fonction hist afin de bien visualiser les deux histogrammes."
   ]
  },
  {
   "cell_type": "code",
   "execution_count": null,
   "metadata": {},
   "outputs": [],
   "source": [
    "def plot_two_hists(\n",
    "    origin_img_array: np.array,\n",
    "    filtered_img_array: np.array,\n",
    "    filter_name: str,\n",
    ") -> None:\n",
    "    plt.hist(\n",
    "        origin_img_array,\n",
    "        bins=20,\n",
    "        density=True,\n",
    "        alpha=0.5,\n",
    "        edgecolor=\"black\",\n",
    "        color=\"red\",\n",
    "        label=\"Image originale\",\n",
    "    )\n",
    "    plt.hist(\n",
    "        filtered_img_array,\n",
    "        bins=20,\n",
    "        density=True,\n",
    "        alpha=0.5,\n",
    "        edgecolor=\"black\",\n",
    "        color=\"blue\",\n",
    "        label=f\"Filtre {filter_name}\",\n",
    "    )\n",
    "    plt.legend()\n",
    "    plt.show()\n",
    "\n",
    "plot_two_hists(\n",
    "    origin_img_array=img_array.flatten(),\n",
    "    filtered_img_array=np.array(img_blur).flatten(),\n",
    "    filter_name=\"BLUR\",\n",
    ")"
   ]
  },
  {
   "cell_type": "markdown",
   "metadata": {},
   "source": [
    "Générer une image avec le filtre CONTOUR."
   ]
  },
  {
   "cell_type": "code",
   "execution_count": null,
   "metadata": {},
   "outputs": [],
   "source": [
    "# Votre code ici"
   ]
  },
  {
   "cell_type": "markdown",
   "metadata": {},
   "source": [
    "Afficher les histogrammes des deux images."
   ]
  },
  {
   "cell_type": "code",
   "execution_count": null,
   "metadata": {},
   "outputs": [],
   "source": [
    "# Votre code ici"
   ]
  },
  {
   "cell_type": "markdown",
   "metadata": {},
   "source": [
    "Générer une image avec le filtre FIND_EDGES."
   ]
  },
  {
   "cell_type": "code",
   "execution_count": null,
   "metadata": {},
   "outputs": [],
   "source": [
    "# Votre code ici"
   ]
  },
  {
   "cell_type": "markdown",
   "metadata": {},
   "source": [
    "Afficher à nouveau les 2 histogrammes."
   ]
  },
  {
   "cell_type": "code",
   "execution_count": null,
   "metadata": {},
   "outputs": [],
   "source": [
    "# Votre code ici"
   ]
  },
  {
   "cell_type": "markdown",
   "metadata": {},
   "source": [
    "Utiliser la commande dir(ImageFilter) pour visualiser l'ensemble des filtres disponibles."
   ]
  },
  {
   "cell_type": "code",
   "execution_count": null,
   "metadata": {},
   "outputs": [],
   "source": [
    "# Votre code ici"
   ]
  },
  {
   "cell_type": "markdown",
   "metadata": {},
   "source": [
    "Visualiser les effets du filtre SHARPEN ainsi que d'un supplémentaire au choix.\n",
    "\n",
    "Bonus : Essayer de conjecturer comment fonctionne le filtre SHARPEN. "
   ]
  },
  {
   "cell_type": "code",
   "execution_count": null,
   "metadata": {},
   "outputs": [],
   "source": [
    "# Votre code ici"
   ]
  },
  {
   "cell_type": "markdown",
   "metadata": {},
   "source": [
    "Les couleurs dans une image inversée sont les couleurs \"négatives\" des originales. Par exemple, un cercle noir sur fond blanc s'affiche en blanc sur fond noir.\n",
    "\n",
    "Proposer une façon efficace de calculer les valeurs des pixels de l'image inversée à partir de celle de départ (sous la forme de numpy array). Calculer et afficher l'image inversée de notre image originale (dans une nouvelle variable). Attention à ne pas modifier l'image d'origine.\n",
    "\n",
    "Bonus : effectuer ce calcul en utilisant le \"broadcasting\" de numpy."
   ]
  },
  {
   "cell_type": "code",
   "execution_count": null,
   "metadata": {},
   "outputs": [],
   "source": [
    "# Votre code ici"
   ]
  },
  {
   "cell_type": "markdown",
   "metadata": {},
   "source": [
    "On se souvient qu'en mode RGB, chaque pixel de l'image est représenté par trois entiers. Pour diviser l'image en composantes de couleur distinctes et générer des images monochromes (un seul canal), il suffit de garder un seul canal (rouge, vert ou bleu) et mettre les deux autres valeurs à 0.\n",
    "\n",
    "Créer un nouveau tableau numpy ne contenant que le canal rouge de l'image d'origine. Afficher l'image correspondante.\n",
    "\n",
    "Pour sélectionner le bon canal, il sera peut-être nécessaire de se renseigner sur le slicing des tableaux numpy (rechercher par exemple \"numpy array slicing\" sur votre moteur de recherche préféré)."
   ]
  },
  {
   "cell_type": "code",
   "execution_count": null,
   "metadata": {},
   "outputs": [],
   "source": [
    "# Votre code ici"
   ]
  },
  {
   "cell_type": "markdown",
   "metadata": {},
   "source": [
    "Préparer les images correspondant aux canaux bleu et vert. Afficher les 3 canaux sur une même visualisation, côte à côte. La fonction concatenate de numpy permet de réaliser cela. Si besoin, consulter sa documentation pour voir comment spécifier selon quel \"axe\" se fait la concaténation (c'est un argument classique des objets de numpy et d'autres bibliothèques proches comme pandas)."
   ]
  },
  {
   "cell_type": "code",
   "execution_count": null,
   "metadata": {},
   "outputs": [],
   "source": [
    "# Votre code ici"
   ]
  },
  {
   "cell_type": "markdown",
   "metadata": {},
   "source": [
    "Il est désormais temps de transformer l'image en nuance de gris. Il existe plusieurs façons de le faire, mais une façon simple est de prendre la moyenne pondérée des valeurs RGB de l'image originale.\n",
    "\n",
    "Ecrire une fonction permettant de générer une image en niveaux de gris à partir d'une image originale RGB (sous forme np.array) en pondérant chacun de ses trois canaux de couleur. L'appeler sur notre image en testant différentes configurations de poids pour visualiser leur effet sur l’image en nuance de gris générée."
   ]
  },
  {
   "cell_type": "code",
   "execution_count": null,
   "metadata": {},
   "outputs": [],
   "source": [
    "# Votre code ici"
   ]
  },
  {
   "cell_type": "markdown",
   "metadata": {},
   "source": [
    "Terminons ce TP avec une segmentation de cette image (ne pas confondre la segmentation d'une image donnée avec un problème de segmentation d'images en Machine Learning). Ici, le but est d'étiqueter chaque pixel de l'image avec une classe d'un référentiel donné. Une segmentation classique consiste à découper l’image en deux régions correspondant respectivement au premier plan et à l'arrière-plan. Ce cas correspond à un problème de binarisation.\n",
    "\n",
    "Il existe une multitude de techniques pour réaliser une binarisation. Dans tous les cas, l'image est convertie en un seul canal (principalement en niveaux de gris) par comparaison de la valeur des pixels à un seuil (qui peut être défini globalement ou localement). Les pixels dont la valeur est supérieure au seuil sont traités comme appartenant à la première région, et les pixels dont la valeur est inférieure au seuil, à la seconde région.\n",
    "\n",
    "En rappelant bien que la manière dont doit être choisi le seuil sera spécifique à l'application voire même à l'image, générer, à partir de l'image précédente en niveaux de gris, un vecteur numpy contenant des éléments booléens valant True si la valeur de l'intensité des pixels est supérieure à un seuil de 180, False sinon."
   ]
  },
  {
   "cell_type": "code",
   "execution_count": null,
   "metadata": {},
   "outputs": [],
   "source": [
    "# Votre code ici"
   ]
  },
  {
   "cell_type": "markdown",
   "metadata": {},
   "source": [
    "En sachant que imshow comprend directement que nous sommes en convention float du support de cours lorsque sont fournies des valeurs booléennes (True correspond à 1, qui est compris comme 1.0 en représentation float et donc 255 en représentation 8bits), afficher l'image binarisée."
   ]
  },
  {
   "cell_type": "code",
   "execution_count": null,
   "metadata": {},
   "outputs": [],
   "source": [
    "# Votre code ici"
   ]
  },
  {
   "cell_type": "markdown",
   "metadata": {},
   "source": [
    "Sur une image réelle, une telle binarisation peut s'avérer peu convaincainte. En pratique, des méthodes plus précises sont utilisées (par exemple Niblack ou Sauvola)."
   ]
  },
  {
   "cell_type": "markdown",
   "metadata": {},
   "source": [
    "### Exercice 1"
   ]
  },
  {
   "cell_type": "markdown",
   "metadata": {},
   "source": [
    "Générer une image d’un échiquier en noir et blanc de taille 200 x 200 avec numpy. Pour rappel, un échiquier contient 8 lignes et 8 colonnes et la case en bas à droite est blanche (et 200 est divisible par 8). (Repartir de zéro, y compris pour les imports.)"
   ]
  },
  {
   "cell_type": "code",
   "execution_count": null,
   "metadata": {},
   "outputs": [],
   "source": [
    "import matplotlib.pyplot as plt\n",
    "import numpy as np"
   ]
  },
  {
   "cell_type": "code",
   "execution_count": null,
   "metadata": {},
   "outputs": [],
   "source": [
    "# Votre code ici"
   ]
  },
  {
   "cell_type": "markdown",
   "metadata": {},
   "source": [
    "### Exercice 2"
   ]
  },
  {
   "cell_type": "markdown",
   "metadata": {},
   "source": [
    "- Trouver sur internet comment récupérer l'image astronaut de scikit-image sous forme d'image PIL (il faudra peut-être installer une nouvelle bibliothèque).\n",
    "- Générer trois images monochromes correspondant à chacun des trois canaux RGB et les afficher.\n",
    "- Pour chaque image monochrome, effectuer une segmentation binaire avec trois seuils : [100, 150, 200].\n",
    "- Concaténer les images et afficher le résultat.\n",
    "\n",
    "Contrainte bonus 1 : chaque visualisation devra être effectuée dans une même figure plt, en utilisant plt.subplots."
   ]
  },
  {
   "cell_type": "code",
   "execution_count": null,
   "metadata": {},
   "outputs": [],
   "source": [
    "import matplotlib.pyplot as plt\n",
    "import numpy as np\n",
    "from skimage import data"
   ]
  },
  {
   "cell_type": "code",
   "execution_count": null,
   "metadata": {},
   "outputs": [],
   "source": [
    "# Votre code ici"
   ]
  }
 ],
 "metadata": {
  "kernelspec": {
   "display_name": "basic-imaging-numpy-pillow-plt-rSlj4uHU-py3.11",
   "language": "python",
   "name": "python3"
  },
  "language_info": {
   "codemirror_mode": {
    "name": "ipython",
    "version": 3
   },
   "file_extension": ".py",
   "mimetype": "text/x-python",
   "name": "python",
   "nbconvert_exporter": "python",
   "pygments_lexer": "ipython3",
   "version": "3.11.4"
  },
  "orig_nbformat": 4
 },
 "nbformat": 4,
 "nbformat_minor": 2
}
