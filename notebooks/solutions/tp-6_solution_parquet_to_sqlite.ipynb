{
 "cells": [
  {
   "cell_type": "markdown",
   "id": "89357adc",
   "metadata": {},
   "source": [
    "## Les formats de fichiers - TP\n",
    "\n"
   ]
  },
  {
   "cell_type": "markdown",
   "id": "d212a86d",
   "metadata": {},
   "source": [
    "### Préparation d'une base de données SQLite à partir d'un fichier parquet"
   ]
  },
  {
   "cell_type": "code",
   "execution_count": null,
   "id": "ebc9f4d4",
   "metadata": {},
   "outputs": [],
   "source": [
    "from pathlib import Path\n",
    "import sqlite3\n",
    "import os\n",
    "import urllib.request\n",
    "\n",
    "import pandas as pd"
   ]
  },
  {
   "cell_type": "code",
   "execution_count": null,
   "id": "6084622f",
   "metadata": {},
   "outputs": [],
   "source": [
    "DATA_DIR = ...  # à compléter"
   ]
  },
  {
   "cell_type": "markdown",
   "id": "604fd057",
   "metadata": {},
   "source": [
    "Télécharger le fichier des trajets en taxi de New York en janvier 2025."
   ]
  },
  {
   "cell_type": "code",
   "execution_count": null,
   "id": "07cbcdf4",
   "metadata": {},
   "outputs": [],
   "source": [
    "url = \"https://d37ci6vzurychx.cloudfront.net/trip-data/yellow_tripdata_2025-01.parquet\"\n",
    "parquet_file_path = Path(DATA_DIR, \"yellow_tripdata_2025-01.parquet\")\n",
    "\n",
    "if ...:  # à compléter\n",
    "    print(f\"Téléchargement du fichier...\")\n",
    "    urllib.request.urlretrieve(url, parquet_file_path)\n",
    "    print(\"Fichier téléchargé.\")\n",
    "else:\n",
    "    print(f\"Fichier déjà présent.\")"
   ]
  },
  {
   "cell_type": "markdown",
   "id": "5f51efd7",
   "metadata": {},
   "source": [
    "Lire le fichier avec pandas. Utiliser le moteur pyarrow."
   ]
  },
  {
   "cell_type": "code",
   "execution_count": null,
   "id": "120fd86c",
   "metadata": {},
   "outputs": [],
   "source": [
    "taxi_df = ...  # à compléter\n",
    "taxi_df.head()"
   ]
  },
  {
   "cell_type": "markdown",
   "id": "94943bb0",
   "metadata": {},
   "source": [
    "Créer une base sqlite3 et importer les données."
   ]
  },
  {
   "cell_type": "code",
   "execution_count": null,
   "id": "b3d1e616",
   "metadata": {},
   "outputs": [],
   "source": [
    "conn = ...  # à compléter\n",
    "# importer les données\n",
    "conn.close()"
   ]
  },
  {
   "cell_type": "markdown",
   "id": "7ce4f80a",
   "metadata": {},
   "source": [
    "Se reconnecter à la base de données et lire les 5 premières lignes."
   ]
  },
  {
   "cell_type": "code",
   "execution_count": null,
   "id": "195dee3f",
   "metadata": {},
   "outputs": [],
   "source": [
    "conn = ...  # à compléter\n",
    "df_sql = ...  # lire les 5 premières lignes avec une requête SQL\n",
    "df_sql.head()"
   ]
  }
 ],
 "metadata": {
  "kernelspec": {
   "display_name": ".venv",
   "language": "python",
   "name": "python3"
  },
  "language_info": {
   "codemirror_mode": {
    "name": "ipython",
    "version": 3
   },
   "file_extension": ".py",
   "mimetype": "text/x-python",
   "name": "python",
   "nbconvert_exporter": "python",
   "pygments_lexer": "ipython3",
   "version": "3.11.4"
  }
 },
 "nbformat": 4,
 "nbformat_minor": 5
}
