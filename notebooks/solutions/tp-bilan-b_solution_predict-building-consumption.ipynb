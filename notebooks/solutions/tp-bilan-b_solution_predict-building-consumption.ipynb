{
 "cells": [
  {
   "cell_type": "markdown",
   "metadata": {},
   "source": [
    "# TP : Prédiction de la consommation énergétique de bâtiments\n",
    "Dans ce TP, vous allez développer un modèle de prédiction de la consommation énergétique des bâtiments en utilisant un dataset avec différentes caractéristiques. L'objectif est de préparer les données, d'entraîner un modèle de régression et d'évaluer sa performance. Ce modèle sera utilisé pour estimer la consommation de futurs bâtiments, pour lesquels on ne dispose pas encore de relevé fiable."
   ]
  },
  {
   "cell_type": "markdown",
   "id": "faf75f0d",
   "metadata": {},
   "source": [
    "## Chargement des données et exploration initiale\n",
    "La première étape consiste à charger les données et à effectuer une première exploration pour comprendre leur structure. Chargez le fichier building_energy_benchmarking.csv et affichez les premières lignes du dataset."
   ]
  },
  {
   "cell_type": "code",
   "execution_count": 2,
   "id": "80084dfe",
   "metadata": {},
   "outputs": [
    {
     "name": "stdout",
     "output_type": "stream",
     "text": [
      "(3376, 46)\n",
      "Index(['OSEBuildingID', 'DataYear', 'BuildingType', 'PrimaryPropertyType',\n",
      "       'PropertyName', 'Address', 'City', 'State', 'ZipCode',\n",
      "       'TaxParcelIdentificationNumber', 'CouncilDistrictCode', 'Neighborhood',\n",
      "       'Latitude', 'Longitude', 'YearBuilt', 'NumberofBuildings',\n",
      "       'NumberofFloors', 'PropertyGFATotal', 'PropertyGFAParking',\n",
      "       'PropertyGFABuilding(s)', 'ListOfAllPropertyUseTypes',\n",
      "       'LargestPropertyUseType', 'LargestPropertyUseTypeGFA',\n",
      "       'SecondLargestPropertyUseType', 'SecondLargestPropertyUseTypeGFA',\n",
      "       'ThirdLargestPropertyUseType', 'ThirdLargestPropertyUseTypeGFA',\n",
      "       'YearsENERGYSTARCertified', 'ENERGYSTARScore', 'SiteEUI(kBtu/sf)',\n",
      "       'SiteEUIWN(kBtu/sf)', 'SourceEUI(kBtu/sf)', 'SourceEUIWN(kBtu/sf)',\n",
      "       'SiteEnergyUse(kBtu)', 'SiteEnergyUseWN(kBtu)', 'SteamUse(kBtu)',\n",
      "       'Electricity(kWh)', 'Electricity(kBtu)', 'NaturalGas(therms)',\n",
      "       'NaturalGas(kBtu)', 'DefaultData', 'Comments', 'ComplianceStatus',\n",
      "       'Outlier', 'TotalGHGEmissions', 'GHGEmissionsIntensity'],\n",
      "      dtype='object')\n"
     ]
    },
    {
     "data": {
      "text/html": [
       "<div>\n",
       "<style scoped>\n",
       "    .dataframe tbody tr th:only-of-type {\n",
       "        vertical-align: middle;\n",
       "    }\n",
       "\n",
       "    .dataframe tbody tr th {\n",
       "        vertical-align: top;\n",
       "    }\n",
       "\n",
       "    .dataframe thead th {\n",
       "        text-align: right;\n",
       "    }\n",
       "</style>\n",
       "<table border=\"1\" class=\"dataframe\">\n",
       "  <thead>\n",
       "    <tr style=\"text-align: right;\">\n",
       "      <th></th>\n",
       "      <th>OSEBuildingID</th>\n",
       "      <th>DataYear</th>\n",
       "      <th>BuildingType</th>\n",
       "      <th>PrimaryPropertyType</th>\n",
       "      <th>PropertyName</th>\n",
       "      <th>Address</th>\n",
       "      <th>City</th>\n",
       "      <th>State</th>\n",
       "      <th>ZipCode</th>\n",
       "      <th>TaxParcelIdentificationNumber</th>\n",
       "      <th>...</th>\n",
       "      <th>Electricity(kWh)</th>\n",
       "      <th>Electricity(kBtu)</th>\n",
       "      <th>NaturalGas(therms)</th>\n",
       "      <th>NaturalGas(kBtu)</th>\n",
       "      <th>DefaultData</th>\n",
       "      <th>Comments</th>\n",
       "      <th>ComplianceStatus</th>\n",
       "      <th>Outlier</th>\n",
       "      <th>TotalGHGEmissions</th>\n",
       "      <th>GHGEmissionsIntensity</th>\n",
       "    </tr>\n",
       "  </thead>\n",
       "  <tbody>\n",
       "    <tr>\n",
       "      <th>0</th>\n",
       "      <td>1</td>\n",
       "      <td>2016</td>\n",
       "      <td>NonResidential</td>\n",
       "      <td>Hotel</td>\n",
       "      <td>Mayflower park hotel</td>\n",
       "      <td>405 Olive way</td>\n",
       "      <td>Seattle</td>\n",
       "      <td>WA</td>\n",
       "      <td>98101.0</td>\n",
       "      <td>0659000030</td>\n",
       "      <td>...</td>\n",
       "      <td>1.156514e+06</td>\n",
       "      <td>3946027.0</td>\n",
       "      <td>12764.52930</td>\n",
       "      <td>1276453.0</td>\n",
       "      <td>False</td>\n",
       "      <td>NaN</td>\n",
       "      <td>Compliant</td>\n",
       "      <td>NaN</td>\n",
       "      <td>249.98</td>\n",
       "      <td>2.83</td>\n",
       "    </tr>\n",
       "    <tr>\n",
       "      <th>1</th>\n",
       "      <td>2</td>\n",
       "      <td>2016</td>\n",
       "      <td>NonResidential</td>\n",
       "      <td>Hotel</td>\n",
       "      <td>Paramount Hotel</td>\n",
       "      <td>724 Pine street</td>\n",
       "      <td>Seattle</td>\n",
       "      <td>WA</td>\n",
       "      <td>98101.0</td>\n",
       "      <td>0659000220</td>\n",
       "      <td>...</td>\n",
       "      <td>9.504252e+05</td>\n",
       "      <td>3242851.0</td>\n",
       "      <td>51450.81641</td>\n",
       "      <td>5145082.0</td>\n",
       "      <td>False</td>\n",
       "      <td>NaN</td>\n",
       "      <td>Compliant</td>\n",
       "      <td>NaN</td>\n",
       "      <td>295.86</td>\n",
       "      <td>2.86</td>\n",
       "    </tr>\n",
       "    <tr>\n",
       "      <th>2</th>\n",
       "      <td>3</td>\n",
       "      <td>2016</td>\n",
       "      <td>NonResidential</td>\n",
       "      <td>Hotel</td>\n",
       "      <td>5673-The Westin Seattle</td>\n",
       "      <td>1900 5th Avenue</td>\n",
       "      <td>Seattle</td>\n",
       "      <td>WA</td>\n",
       "      <td>98101.0</td>\n",
       "      <td>0659000475</td>\n",
       "      <td>...</td>\n",
       "      <td>1.451544e+07</td>\n",
       "      <td>49526664.0</td>\n",
       "      <td>14938.00000</td>\n",
       "      <td>1493800.0</td>\n",
       "      <td>False</td>\n",
       "      <td>NaN</td>\n",
       "      <td>Compliant</td>\n",
       "      <td>NaN</td>\n",
       "      <td>2089.28</td>\n",
       "      <td>2.19</td>\n",
       "    </tr>\n",
       "    <tr>\n",
       "      <th>3</th>\n",
       "      <td>5</td>\n",
       "      <td>2016</td>\n",
       "      <td>NonResidential</td>\n",
       "      <td>Hotel</td>\n",
       "      <td>HOTEL MAX</td>\n",
       "      <td>620 STEWART ST</td>\n",
       "      <td>Seattle</td>\n",
       "      <td>WA</td>\n",
       "      <td>98101.0</td>\n",
       "      <td>0659000640</td>\n",
       "      <td>...</td>\n",
       "      <td>8.115253e+05</td>\n",
       "      <td>2768924.0</td>\n",
       "      <td>18112.13086</td>\n",
       "      <td>1811213.0</td>\n",
       "      <td>False</td>\n",
       "      <td>NaN</td>\n",
       "      <td>Compliant</td>\n",
       "      <td>NaN</td>\n",
       "      <td>286.43</td>\n",
       "      <td>4.67</td>\n",
       "    </tr>\n",
       "    <tr>\n",
       "      <th>4</th>\n",
       "      <td>8</td>\n",
       "      <td>2016</td>\n",
       "      <td>NonResidential</td>\n",
       "      <td>Hotel</td>\n",
       "      <td>WARWICK SEATTLE HOTEL (ID8)</td>\n",
       "      <td>401 LENORA ST</td>\n",
       "      <td>Seattle</td>\n",
       "      <td>WA</td>\n",
       "      <td>98121.0</td>\n",
       "      <td>0659000970</td>\n",
       "      <td>...</td>\n",
       "      <td>1.573449e+06</td>\n",
       "      <td>5368607.0</td>\n",
       "      <td>88039.98438</td>\n",
       "      <td>8803998.0</td>\n",
       "      <td>False</td>\n",
       "      <td>NaN</td>\n",
       "      <td>Compliant</td>\n",
       "      <td>NaN</td>\n",
       "      <td>505.01</td>\n",
       "      <td>2.88</td>\n",
       "    </tr>\n",
       "  </tbody>\n",
       "</table>\n",
       "<p>5 rows × 46 columns</p>\n",
       "</div>"
      ],
      "text/plain": [
       "   OSEBuildingID  DataYear    BuildingType PrimaryPropertyType  \\\n",
       "0              1      2016  NonResidential               Hotel   \n",
       "1              2      2016  NonResidential               Hotel   \n",
       "2              3      2016  NonResidential               Hotel   \n",
       "3              5      2016  NonResidential               Hotel   \n",
       "4              8      2016  NonResidential               Hotel   \n",
       "\n",
       "                  PropertyName          Address     City State  ZipCode  \\\n",
       "0         Mayflower park hotel    405 Olive way  Seattle    WA  98101.0   \n",
       "1              Paramount Hotel  724 Pine street  Seattle    WA  98101.0   \n",
       "2      5673-The Westin Seattle  1900 5th Avenue  Seattle    WA  98101.0   \n",
       "3                    HOTEL MAX   620 STEWART ST  Seattle    WA  98101.0   \n",
       "4  WARWICK SEATTLE HOTEL (ID8)    401 LENORA ST  Seattle    WA  98121.0   \n",
       "\n",
       "  TaxParcelIdentificationNumber  ...  Electricity(kWh) Electricity(kBtu)  \\\n",
       "0                    0659000030  ...      1.156514e+06         3946027.0   \n",
       "1                    0659000220  ...      9.504252e+05         3242851.0   \n",
       "2                    0659000475  ...      1.451544e+07        49526664.0   \n",
       "3                    0659000640  ...      8.115253e+05         2768924.0   \n",
       "4                    0659000970  ...      1.573449e+06         5368607.0   \n",
       "\n",
       "   NaturalGas(therms)  NaturalGas(kBtu)  DefaultData  Comments  \\\n",
       "0         12764.52930         1276453.0        False       NaN   \n",
       "1         51450.81641         5145082.0        False       NaN   \n",
       "2         14938.00000         1493800.0        False       NaN   \n",
       "3         18112.13086         1811213.0        False       NaN   \n",
       "4         88039.98438         8803998.0        False       NaN   \n",
       "\n",
       "   ComplianceStatus  Outlier  TotalGHGEmissions  GHGEmissionsIntensity  \n",
       "0         Compliant      NaN             249.98                   2.83  \n",
       "1         Compliant      NaN             295.86                   2.86  \n",
       "2         Compliant      NaN            2089.28                   2.19  \n",
       "3         Compliant      NaN             286.43                   4.67  \n",
       "4         Compliant      NaN             505.01                   2.88  \n",
       "\n",
       "[5 rows x 46 columns]"
      ]
     },
     "metadata": {},
     "output_type": "display_data"
    }
   ],
   "source": [
    "import pandas as pd\n",
    "\n",
    "energy_df = pd.read_csv(\"../../../data/building_energy_benchmarking.csv\")\n",
    "print(energy_df.shape)\n",
    "print(energy_df.columns)\n",
    "display(energy_df.head())"
   ]
  },
  {
   "cell_type": "code",
   "execution_count": 3,
   "id": "2f61fc8d",
   "metadata": {},
   "outputs": [
    {
     "data": {
      "text/html": [
       "<div>\n",
       "<style scoped>\n",
       "    .dataframe tbody tr th:only-of-type {\n",
       "        vertical-align: middle;\n",
       "    }\n",
       "\n",
       "    .dataframe tbody tr th {\n",
       "        vertical-align: top;\n",
       "    }\n",
       "\n",
       "    .dataframe thead th {\n",
       "        text-align: right;\n",
       "    }\n",
       "</style>\n",
       "<table border=\"1\" class=\"dataframe\">\n",
       "  <thead>\n",
       "    <tr style=\"text-align: right;\">\n",
       "      <th></th>\n",
       "      <th>OSEBuildingID</th>\n",
       "      <th>DataYear</th>\n",
       "      <th>ZipCode</th>\n",
       "      <th>CouncilDistrictCode</th>\n",
       "      <th>Latitude</th>\n",
       "      <th>Longitude</th>\n",
       "      <th>YearBuilt</th>\n",
       "      <th>NumberofBuildings</th>\n",
       "      <th>NumberofFloors</th>\n",
       "      <th>PropertyGFATotal</th>\n",
       "      <th>...</th>\n",
       "      <th>SiteEnergyUse(kBtu)</th>\n",
       "      <th>SiteEnergyUseWN(kBtu)</th>\n",
       "      <th>SteamUse(kBtu)</th>\n",
       "      <th>Electricity(kWh)</th>\n",
       "      <th>Electricity(kBtu)</th>\n",
       "      <th>NaturalGas(therms)</th>\n",
       "      <th>NaturalGas(kBtu)</th>\n",
       "      <th>Comments</th>\n",
       "      <th>TotalGHGEmissions</th>\n",
       "      <th>GHGEmissionsIntensity</th>\n",
       "    </tr>\n",
       "  </thead>\n",
       "  <tbody>\n",
       "    <tr>\n",
       "      <th>count</th>\n",
       "      <td>3376.000000</td>\n",
       "      <td>3376.0</td>\n",
       "      <td>3360.000000</td>\n",
       "      <td>3376.000000</td>\n",
       "      <td>3376.000000</td>\n",
       "      <td>3376.000000</td>\n",
       "      <td>3376.000000</td>\n",
       "      <td>3368.000000</td>\n",
       "      <td>3376.000000</td>\n",
       "      <td>3.376000e+03</td>\n",
       "      <td>...</td>\n",
       "      <td>3.371000e+03</td>\n",
       "      <td>3.370000e+03</td>\n",
       "      <td>3.367000e+03</td>\n",
       "      <td>3.367000e+03</td>\n",
       "      <td>3.367000e+03</td>\n",
       "      <td>3.367000e+03</td>\n",
       "      <td>3.367000e+03</td>\n",
       "      <td>0.0</td>\n",
       "      <td>3367.000000</td>\n",
       "      <td>3367.000000</td>\n",
       "    </tr>\n",
       "    <tr>\n",
       "      <th>mean</th>\n",
       "      <td>21208.991114</td>\n",
       "      <td>2016.0</td>\n",
       "      <td>98116.949107</td>\n",
       "      <td>4.439277</td>\n",
       "      <td>47.624033</td>\n",
       "      <td>-122.334795</td>\n",
       "      <td>1968.573164</td>\n",
       "      <td>1.106888</td>\n",
       "      <td>4.709123</td>\n",
       "      <td>9.483354e+04</td>\n",
       "      <td>...</td>\n",
       "      <td>5.403667e+06</td>\n",
       "      <td>5.276726e+06</td>\n",
       "      <td>2.745959e+05</td>\n",
       "      <td>1.086639e+06</td>\n",
       "      <td>3.707612e+06</td>\n",
       "      <td>1.368505e+04</td>\n",
       "      <td>1.368505e+06</td>\n",
       "      <td>NaN</td>\n",
       "      <td>119.723971</td>\n",
       "      <td>1.175916</td>\n",
       "    </tr>\n",
       "    <tr>\n",
       "      <th>std</th>\n",
       "      <td>12223.757015</td>\n",
       "      <td>0.0</td>\n",
       "      <td>18.615205</td>\n",
       "      <td>2.120625</td>\n",
       "      <td>0.047758</td>\n",
       "      <td>0.027203</td>\n",
       "      <td>33.088156</td>\n",
       "      <td>2.108402</td>\n",
       "      <td>5.494465</td>\n",
       "      <td>2.188376e+05</td>\n",
       "      <td>...</td>\n",
       "      <td>2.161063e+07</td>\n",
       "      <td>1.593879e+07</td>\n",
       "      <td>3.912173e+06</td>\n",
       "      <td>4.352478e+06</td>\n",
       "      <td>1.485066e+07</td>\n",
       "      <td>6.709781e+04</td>\n",
       "      <td>6.709781e+06</td>\n",
       "      <td>NaN</td>\n",
       "      <td>538.832227</td>\n",
       "      <td>1.821452</td>\n",
       "    </tr>\n",
       "    <tr>\n",
       "      <th>min</th>\n",
       "      <td>1.000000</td>\n",
       "      <td>2016.0</td>\n",
       "      <td>98006.000000</td>\n",
       "      <td>1.000000</td>\n",
       "      <td>47.499170</td>\n",
       "      <td>-122.414250</td>\n",
       "      <td>1900.000000</td>\n",
       "      <td>0.000000</td>\n",
       "      <td>0.000000</td>\n",
       "      <td>1.128500e+04</td>\n",
       "      <td>...</td>\n",
       "      <td>0.000000e+00</td>\n",
       "      <td>0.000000e+00</td>\n",
       "      <td>0.000000e+00</td>\n",
       "      <td>-3.382680e+04</td>\n",
       "      <td>-1.154170e+05</td>\n",
       "      <td>0.000000e+00</td>\n",
       "      <td>0.000000e+00</td>\n",
       "      <td>NaN</td>\n",
       "      <td>-0.800000</td>\n",
       "      <td>-0.020000</td>\n",
       "    </tr>\n",
       "    <tr>\n",
       "      <th>25%</th>\n",
       "      <td>19990.750000</td>\n",
       "      <td>2016.0</td>\n",
       "      <td>98105.000000</td>\n",
       "      <td>3.000000</td>\n",
       "      <td>47.599860</td>\n",
       "      <td>-122.350662</td>\n",
       "      <td>1948.000000</td>\n",
       "      <td>1.000000</td>\n",
       "      <td>2.000000</td>\n",
       "      <td>2.848700e+04</td>\n",
       "      <td>...</td>\n",
       "      <td>9.251286e+05</td>\n",
       "      <td>9.701822e+05</td>\n",
       "      <td>0.000000e+00</td>\n",
       "      <td>1.874229e+05</td>\n",
       "      <td>6.394870e+05</td>\n",
       "      <td>0.000000e+00</td>\n",
       "      <td>0.000000e+00</td>\n",
       "      <td>NaN</td>\n",
       "      <td>9.495000</td>\n",
       "      <td>0.210000</td>\n",
       "    </tr>\n",
       "    <tr>\n",
       "      <th>50%</th>\n",
       "      <td>23112.000000</td>\n",
       "      <td>2016.0</td>\n",
       "      <td>98115.000000</td>\n",
       "      <td>4.000000</td>\n",
       "      <td>47.618675</td>\n",
       "      <td>-122.332495</td>\n",
       "      <td>1975.000000</td>\n",
       "      <td>1.000000</td>\n",
       "      <td>4.000000</td>\n",
       "      <td>4.417500e+04</td>\n",
       "      <td>...</td>\n",
       "      <td>1.803753e+06</td>\n",
       "      <td>1.904452e+06</td>\n",
       "      <td>0.000000e+00</td>\n",
       "      <td>3.451299e+05</td>\n",
       "      <td>1.177583e+06</td>\n",
       "      <td>3.237538e+03</td>\n",
       "      <td>3.237540e+05</td>\n",
       "      <td>NaN</td>\n",
       "      <td>33.920000</td>\n",
       "      <td>0.610000</td>\n",
       "    </tr>\n",
       "    <tr>\n",
       "      <th>75%</th>\n",
       "      <td>25994.250000</td>\n",
       "      <td>2016.0</td>\n",
       "      <td>98122.000000</td>\n",
       "      <td>7.000000</td>\n",
       "      <td>47.657115</td>\n",
       "      <td>-122.319407</td>\n",
       "      <td>1997.000000</td>\n",
       "      <td>1.000000</td>\n",
       "      <td>5.000000</td>\n",
       "      <td>9.099200e+04</td>\n",
       "      <td>...</td>\n",
       "      <td>4.222455e+06</td>\n",
       "      <td>4.381429e+06</td>\n",
       "      <td>0.000000e+00</td>\n",
       "      <td>8.293178e+05</td>\n",
       "      <td>2.829632e+06</td>\n",
       "      <td>1.189033e+04</td>\n",
       "      <td>1.189034e+06</td>\n",
       "      <td>NaN</td>\n",
       "      <td>93.940000</td>\n",
       "      <td>1.370000</td>\n",
       "    </tr>\n",
       "    <tr>\n",
       "      <th>max</th>\n",
       "      <td>50226.000000</td>\n",
       "      <td>2016.0</td>\n",
       "      <td>98272.000000</td>\n",
       "      <td>7.000000</td>\n",
       "      <td>47.733870</td>\n",
       "      <td>-122.220966</td>\n",
       "      <td>2015.000000</td>\n",
       "      <td>111.000000</td>\n",
       "      <td>99.000000</td>\n",
       "      <td>9.320156e+06</td>\n",
       "      <td>...</td>\n",
       "      <td>8.739237e+08</td>\n",
       "      <td>4.716139e+08</td>\n",
       "      <td>1.349435e+08</td>\n",
       "      <td>1.925775e+08</td>\n",
       "      <td>6.570744e+08</td>\n",
       "      <td>2.979090e+06</td>\n",
       "      <td>2.979090e+08</td>\n",
       "      <td>NaN</td>\n",
       "      <td>16870.980000</td>\n",
       "      <td>34.090000</td>\n",
       "    </tr>\n",
       "  </tbody>\n",
       "</table>\n",
       "<p>8 rows × 30 columns</p>\n",
       "</div>"
      ],
      "text/plain": [
       "       OSEBuildingID  DataYear       ZipCode  CouncilDistrictCode  \\\n",
       "count    3376.000000    3376.0   3360.000000          3376.000000   \n",
       "mean    21208.991114    2016.0  98116.949107             4.439277   \n",
       "std     12223.757015       0.0     18.615205             2.120625   \n",
       "min         1.000000    2016.0  98006.000000             1.000000   \n",
       "25%     19990.750000    2016.0  98105.000000             3.000000   \n",
       "50%     23112.000000    2016.0  98115.000000             4.000000   \n",
       "75%     25994.250000    2016.0  98122.000000             7.000000   \n",
       "max     50226.000000    2016.0  98272.000000             7.000000   \n",
       "\n",
       "          Latitude    Longitude    YearBuilt  NumberofBuildings  \\\n",
       "count  3376.000000  3376.000000  3376.000000        3368.000000   \n",
       "mean     47.624033  -122.334795  1968.573164           1.106888   \n",
       "std       0.047758     0.027203    33.088156           2.108402   \n",
       "min      47.499170  -122.414250  1900.000000           0.000000   \n",
       "25%      47.599860  -122.350662  1948.000000           1.000000   \n",
       "50%      47.618675  -122.332495  1975.000000           1.000000   \n",
       "75%      47.657115  -122.319407  1997.000000           1.000000   \n",
       "max      47.733870  -122.220966  2015.000000         111.000000   \n",
       "\n",
       "       NumberofFloors  PropertyGFATotal  ...  SiteEnergyUse(kBtu)  \\\n",
       "count     3376.000000      3.376000e+03  ...         3.371000e+03   \n",
       "mean         4.709123      9.483354e+04  ...         5.403667e+06   \n",
       "std          5.494465      2.188376e+05  ...         2.161063e+07   \n",
       "min          0.000000      1.128500e+04  ...         0.000000e+00   \n",
       "25%          2.000000      2.848700e+04  ...         9.251286e+05   \n",
       "50%          4.000000      4.417500e+04  ...         1.803753e+06   \n",
       "75%          5.000000      9.099200e+04  ...         4.222455e+06   \n",
       "max         99.000000      9.320156e+06  ...         8.739237e+08   \n",
       "\n",
       "       SiteEnergyUseWN(kBtu)  SteamUse(kBtu)  Electricity(kWh)  \\\n",
       "count           3.370000e+03    3.367000e+03      3.367000e+03   \n",
       "mean            5.276726e+06    2.745959e+05      1.086639e+06   \n",
       "std             1.593879e+07    3.912173e+06      4.352478e+06   \n",
       "min             0.000000e+00    0.000000e+00     -3.382680e+04   \n",
       "25%             9.701822e+05    0.000000e+00      1.874229e+05   \n",
       "50%             1.904452e+06    0.000000e+00      3.451299e+05   \n",
       "75%             4.381429e+06    0.000000e+00      8.293178e+05   \n",
       "max             4.716139e+08    1.349435e+08      1.925775e+08   \n",
       "\n",
       "       Electricity(kBtu)  NaturalGas(therms)  NaturalGas(kBtu)  Comments  \\\n",
       "count       3.367000e+03        3.367000e+03      3.367000e+03       0.0   \n",
       "mean        3.707612e+06        1.368505e+04      1.368505e+06       NaN   \n",
       "std         1.485066e+07        6.709781e+04      6.709781e+06       NaN   \n",
       "min        -1.154170e+05        0.000000e+00      0.000000e+00       NaN   \n",
       "25%         6.394870e+05        0.000000e+00      0.000000e+00       NaN   \n",
       "50%         1.177583e+06        3.237538e+03      3.237540e+05       NaN   \n",
       "75%         2.829632e+06        1.189033e+04      1.189034e+06       NaN   \n",
       "max         6.570744e+08        2.979090e+06      2.979090e+08       NaN   \n",
       "\n",
       "       TotalGHGEmissions  GHGEmissionsIntensity  \n",
       "count        3367.000000            3367.000000  \n",
       "mean          119.723971               1.175916  \n",
       "std           538.832227               1.821452  \n",
       "min            -0.800000              -0.020000  \n",
       "25%             9.495000               0.210000  \n",
       "50%            33.920000               0.610000  \n",
       "75%            93.940000               1.370000  \n",
       "max         16870.980000              34.090000  \n",
       "\n",
       "[8 rows x 30 columns]"
      ]
     },
     "execution_count": 3,
     "metadata": {},
     "output_type": "execute_result"
    }
   ],
   "source": [
    "energy_df.describe()"
   ]
  },
  {
   "cell_type": "markdown",
   "id": "18441b39",
   "metadata": {},
   "source": [
    "## Filtrage des données invalides\n",
    "Proposer un moyen de filtrer les données en fonction de la valeur dans la colonne `DefaultData`, qui indique si ce sont des données synthétiques, qu'on va considérer comme non représentatives pour notre futur modèle."
   ]
  },
  {
   "cell_type": "code",
   "execution_count": 4,
   "id": "def456",
   "metadata": {},
   "outputs": [
    {
     "data": {
      "text/plain": [
       "Outlier\n",
       "Low outlier     23\n",
       "High outlier     9\n",
       "Name: count, dtype: int64"
      ]
     },
     "execution_count": 4,
     "metadata": {},
     "output_type": "execute_result"
    }
   ],
   "source": [
    "energy_df[\"Outlier\"].value_counts()"
   ]
  },
  {
   "cell_type": "code",
   "execution_count": 5,
   "id": "949cc653",
   "metadata": {},
   "outputs": [
    {
     "data": {
      "text/plain": [
       "0       NaN\n",
       "1       NaN\n",
       "2       NaN\n",
       "3       NaN\n",
       "4       NaN\n",
       "       ... \n",
       "3371    NaN\n",
       "3372    NaN\n",
       "3373    NaN\n",
       "3374    NaN\n",
       "3375    NaN\n",
       "Name: Outlier, Length: 3376, dtype: object"
      ]
     },
     "execution_count": 5,
     "metadata": {},
     "output_type": "execute_result"
    }
   ],
   "source": [
    "energy_df[\"Outlier\"]"
   ]
  },
  {
   "cell_type": "code",
   "execution_count": 6,
   "id": "962b2251",
   "metadata": {},
   "outputs": [],
   "source": [
    "mask_outlier = energy_df[\"Outlier\"].isna()\n",
    "energy_df = energy_df[mask_outlier]"
   ]
  },
  {
   "cell_type": "code",
   "execution_count": 7,
   "id": "278bf14c",
   "metadata": {},
   "outputs": [
    {
     "data": {
      "text/plain": [
       "(3344, 46)"
      ]
     },
     "execution_count": 7,
     "metadata": {},
     "output_type": "execute_result"
    }
   ],
   "source": [
    "energy_df.shape\n"
   ]
  },
  {
   "cell_type": "code",
   "execution_count": 8,
   "id": "6738716f",
   "metadata": {},
   "outputs": [
    {
     "data": {
      "text/plain": [
       "0       False\n",
       "1       False\n",
       "2       False\n",
       "3       False\n",
       "4       False\n",
       "        ...  \n",
       "3371     True\n",
       "3372    False\n",
       "3373    False\n",
       "3374    False\n",
       "3375    False\n",
       "Name: DefaultData, Length: 3344, dtype: bool"
      ]
     },
     "execution_count": 8,
     "metadata": {},
     "output_type": "execute_result"
    }
   ],
   "source": [
    "energy_df[\"DefaultData\"]"
   ]
  },
  {
   "cell_type": "code",
   "execution_count": 9,
   "id": "24aed1f1",
   "metadata": {},
   "outputs": [],
   "source": [
    "mask_default_data = ~energy_df[\"DefaultData\"]"
   ]
  },
  {
   "cell_type": "code",
   "execution_count": 10,
   "id": "82346cb1",
   "metadata": {},
   "outputs": [
    {
     "data": {
      "text/plain": [
       "0        True\n",
       "1        True\n",
       "2        True\n",
       "3        True\n",
       "4        True\n",
       "        ...  \n",
       "3371    False\n",
       "3372     True\n",
       "3373     True\n",
       "3374     True\n",
       "3375     True\n",
       "Name: DefaultData, Length: 3344, dtype: bool"
      ]
     },
     "execution_count": 10,
     "metadata": {},
     "output_type": "execute_result"
    }
   ],
   "source": [
    "mask_default_data"
   ]
  },
  {
   "cell_type": "code",
   "execution_count": 11,
   "id": "50d22a0c",
   "metadata": {},
   "outputs": [],
   "source": [
    "energy_df = energy_df[mask_default_data]"
   ]
  },
  {
   "cell_type": "markdown",
   "id": "c16b7d87",
   "metadata": {},
   "source": [
    "## Préparation des données\n",
    "Il est maintenant temps de préparer les caractéristiques et la cible pour l'entraînement du modèle. Sélectionnez les colonnes pertinentes pour l'entraînement et préparez la variable cible `SiteEnergyUse(kBtu)`."
   ]
  },
  {
   "cell_type": "code",
   "execution_count": 12,
   "id": "b3bff2ce",
   "metadata": {},
   "outputs": [
    {
     "data": {
      "text/plain": [
       "City\n",
       "Seattle    3233\n",
       "Name: count, dtype: int64"
      ]
     },
     "execution_count": 12,
     "metadata": {},
     "output_type": "execute_result"
    }
   ],
   "source": [
    "energy_df[\"City\"].value_counts()"
   ]
  },
  {
   "cell_type": "code",
   "execution_count": 13,
   "id": "ghi789",
   "metadata": {},
   "outputs": [],
   "source": [
    "columns_to_keep = [\n",
    "    'Neighborhood',\n",
    "    'YearBuilt',\n",
    "    'NumberofBuildings',\n",
    "    'NumberofFloors',\n",
    "    'PropertyGFATotal',\n",
    "    'PropertyGFAParking',\n",
    "    #'LargestPropertyUseType',\n",
    "    #'LargestPropertyUseTypeGFA',\n",
    "    #'SecondLargestPropertyUseType',\n",
    "    #'SecondLargestPropertyUseTypeGFA',\n",
    "    #'ThirdLargestPropertyUseType',\n",
    "    #'ThirdLargestPropertyUseTypeGFA',\n",
    "    # 'SteamUse(kBtu)',\n",
    "    # 'Electricity(kBtu)',\n",
    "    # 'NaturalGas(kBtu)',\n",
    "    'SiteEnergyUse(kBtu)'\n",
    "]\n",
    "\n",
    "energy_df = energy_df[columns_to_keep]\n",
    "y = energy_df[\"SiteEnergyUse(kBtu)\"]"
   ]
  },
  {
   "cell_type": "code",
   "execution_count": 14,
   "id": "60e4f485",
   "metadata": {},
   "outputs": [
    {
     "data": {
      "text/html": [
       "<div>\n",
       "<style scoped>\n",
       "    .dataframe tbody tr th:only-of-type {\n",
       "        vertical-align: middle;\n",
       "    }\n",
       "\n",
       "    .dataframe tbody tr th {\n",
       "        vertical-align: top;\n",
       "    }\n",
       "\n",
       "    .dataframe thead th {\n",
       "        text-align: right;\n",
       "    }\n",
       "</style>\n",
       "<table border=\"1\" class=\"dataframe\">\n",
       "  <thead>\n",
       "    <tr style=\"text-align: right;\">\n",
       "      <th></th>\n",
       "      <th>Neighborhood</th>\n",
       "      <th>YearBuilt</th>\n",
       "      <th>NumberofBuildings</th>\n",
       "      <th>NumberofFloors</th>\n",
       "      <th>PropertyGFATotal</th>\n",
       "      <th>PropertyGFAParking</th>\n",
       "      <th>SiteEnergyUse(kBtu)</th>\n",
       "    </tr>\n",
       "  </thead>\n",
       "  <tbody>\n",
       "    <tr>\n",
       "      <th>0</th>\n",
       "      <td>DOWNTOWN</td>\n",
       "      <td>1927</td>\n",
       "      <td>1.0</td>\n",
       "      <td>12</td>\n",
       "      <td>88434</td>\n",
       "      <td>0</td>\n",
       "      <td>7226362.5</td>\n",
       "    </tr>\n",
       "    <tr>\n",
       "      <th>1</th>\n",
       "      <td>DOWNTOWN</td>\n",
       "      <td>1996</td>\n",
       "      <td>1.0</td>\n",
       "      <td>11</td>\n",
       "      <td>103566</td>\n",
       "      <td>15064</td>\n",
       "      <td>8387933.0</td>\n",
       "    </tr>\n",
       "    <tr>\n",
       "      <th>2</th>\n",
       "      <td>DOWNTOWN</td>\n",
       "      <td>1969</td>\n",
       "      <td>1.0</td>\n",
       "      <td>41</td>\n",
       "      <td>956110</td>\n",
       "      <td>196718</td>\n",
       "      <td>72587024.0</td>\n",
       "    </tr>\n",
       "    <tr>\n",
       "      <th>3</th>\n",
       "      <td>DOWNTOWN</td>\n",
       "      <td>1926</td>\n",
       "      <td>1.0</td>\n",
       "      <td>10</td>\n",
       "      <td>61320</td>\n",
       "      <td>0</td>\n",
       "      <td>6794584.0</td>\n",
       "    </tr>\n",
       "    <tr>\n",
       "      <th>4</th>\n",
       "      <td>DOWNTOWN</td>\n",
       "      <td>1980</td>\n",
       "      <td>1.0</td>\n",
       "      <td>18</td>\n",
       "      <td>175580</td>\n",
       "      <td>62000</td>\n",
       "      <td>14172606.0</td>\n",
       "    </tr>\n",
       "  </tbody>\n",
       "</table>\n",
       "</div>"
      ],
      "text/plain": [
       "  Neighborhood  YearBuilt  NumberofBuildings  NumberofFloors  \\\n",
       "0     DOWNTOWN       1927                1.0              12   \n",
       "1     DOWNTOWN       1996                1.0              11   \n",
       "2     DOWNTOWN       1969                1.0              41   \n",
       "3     DOWNTOWN       1926                1.0              10   \n",
       "4     DOWNTOWN       1980                1.0              18   \n",
       "\n",
       "   PropertyGFATotal  PropertyGFAParking  SiteEnergyUse(kBtu)  \n",
       "0             88434                   0            7226362.5  \n",
       "1            103566               15064            8387933.0  \n",
       "2            956110              196718           72587024.0  \n",
       "3             61320                   0            6794584.0  \n",
       "4            175580               62000           14172606.0  "
      ]
     },
     "execution_count": 14,
     "metadata": {},
     "output_type": "execute_result"
    }
   ],
   "source": [
    "energy_df.head()"
   ]
  },
  {
   "cell_type": "markdown",
   "id": "5aa20af7",
   "metadata": {},
   "source": [
    "### Gestion des valeurs manquantes\n",
    "\n",
    "Avant d'entraîner notre modèle, il est crucial de gérer les valeurs manquantes dans le jeu de données. Les valeurs manquantes peuvent provenir de données non collectées ou d'informations non applicables à certaines propriétés. \n",
    "\n",
    "1. Identifiez les colonnes qui contiennent des valeurs manquantes.\n",
    "2. Décidez d'une stratégie de gestion, comme le remplissage avec une valeur par défaut, la moyenne/médiane ou la suppression des lignes/colonnes concernées.\n",
    "3. Implémentez cette stratégie pour vous assurer que le jeu de données est prêt pour l'analyse et la modélisation.\n"
   ]
  },
  {
   "cell_type": "code",
   "execution_count": 15,
   "id": "c3adfb82",
   "metadata": {},
   "outputs": [
    {
     "data": {
      "text/plain": [
       "Neighborhood           0\n",
       "YearBuilt              0\n",
       "NumberofBuildings      8\n",
       "NumberofFloors         0\n",
       "PropertyGFATotal       0\n",
       "PropertyGFAParking     0\n",
       "SiteEnergyUse(kBtu)    5\n",
       "dtype: int64"
      ]
     },
     "execution_count": 15,
     "metadata": {},
     "output_type": "execute_result"
    }
   ],
   "source": [
    "energy_df.isnull().sum()"
   ]
  },
  {
   "cell_type": "code",
   "execution_count": 16,
   "id": "dfaf6afb",
   "metadata": {},
   "outputs": [
    {
     "data": {
      "text/plain": [
       "Neighborhood            object\n",
       "YearBuilt                int64\n",
       "NumberofBuildings      float64\n",
       "NumberofFloors           int64\n",
       "PropertyGFATotal         int64\n",
       "PropertyGFAParking       int64\n",
       "SiteEnergyUse(kBtu)    float64\n",
       "dtype: object"
      ]
     },
     "execution_count": 16,
     "metadata": {},
     "output_type": "execute_result"
    }
   ],
   "source": [
    "energy_df.dtypes"
   ]
  },
  {
   "cell_type": "code",
   "execution_count": 17,
   "id": "29966240",
   "metadata": {},
   "outputs": [
    {
     "data": {
      "text/plain": [
       "Index(['YearBuilt', 'NumberofBuildings', 'NumberofFloors', 'PropertyGFATotal',\n",
       "       'PropertyGFAParking', 'SiteEnergyUse(kBtu)'],\n",
       "      dtype='object')"
      ]
     },
     "execution_count": 17,
     "metadata": {},
     "output_type": "execute_result"
    }
   ],
   "source": [
    "energy_df.select_dtypes(include=[\"float64\", \"int64\"]).columns"
   ]
  },
  {
   "cell_type": "code",
   "execution_count": 18,
   "id": "ca0e2136",
   "metadata": {},
   "outputs": [],
   "source": [
    "for col in energy_df.select_dtypes(include=[\"float64\", \"int64\"]).columns:\n",
    "    energy_df[col].fillna(energy_df[col].median(), inplace=True)  # en pratique, utiliser plutôt un imputer de scikit-learn par exemple"
   ]
  },
  {
   "cell_type": "code",
   "execution_count": 19,
   "id": "1b9ed23a",
   "metadata": {},
   "outputs": [
    {
     "data": {
      "text/plain": [
       "Neighborhood           0\n",
       "YearBuilt              0\n",
       "NumberofBuildings      0\n",
       "NumberofFloors         0\n",
       "PropertyGFATotal       0\n",
       "PropertyGFAParking     0\n",
       "SiteEnergyUse(kBtu)    0\n",
       "dtype: int64"
      ]
     },
     "execution_count": 19,
     "metadata": {},
     "output_type": "execute_result"
    }
   ],
   "source": [
    "energy_df.isnull().sum()"
   ]
  },
  {
   "cell_type": "code",
   "execution_count": 20,
   "id": "59263383",
   "metadata": {},
   "outputs": [],
   "source": [
    "for col in energy_df.select_dtypes(include=[\"object\"]).columns:\n",
    "    energy_df[col].fillna(\"Unknown\", inplace=True)  # en pratique, utiliser plutôt un imputer de scikit-learn par exemple"
   ]
  },
  {
   "cell_type": "code",
   "execution_count": 21,
   "id": "0ad14229",
   "metadata": {},
   "outputs": [
    {
     "data": {
      "text/plain": [
       "Neighborhood           0\n",
       "YearBuilt              0\n",
       "NumberofBuildings      0\n",
       "NumberofFloors         0\n",
       "PropertyGFATotal       0\n",
       "PropertyGFAParking     0\n",
       "SiteEnergyUse(kBtu)    0\n",
       "dtype: int64"
      ]
     },
     "execution_count": 21,
     "metadata": {},
     "output_type": "execute_result"
    }
   ],
   "source": [
    "energy_df.isnull().sum()"
   ]
  },
  {
   "cell_type": "markdown",
   "id": "171cdd01",
   "metadata": {},
   "source": [
    "### Ratios des sources d'énergie"
   ]
  },
  {
   "cell_type": "markdown",
   "id": "910f827e",
   "metadata": {},
   "source": [
    "En particulier, même si on ne dispose pas de relevés des valeurs absolues, on va supposer qu'on connaîtra la répartition relative des sources d'énergie du futur bâtiment, et que cela peut avoir un impact sur la modélisation de sa consommation future. Ajoutez une étape pour calculer la proportion de l'énergie totale consommée par chaque source disponible dans le jeu de données.\n"
   ]
  },
  {
   "cell_type": "code",
   "execution_count": 22,
   "id": "f905bd2e",
   "metadata": {},
   "outputs": [],
   "source": [
    "# energy_df[\"total\"] = + +\n",
    "# energy_df[\"natural_gas_proportion\"] = energy_df[\"NaturalGas(kBtu)\"] / \"total\"\n",
    "\n",
    "# FAIRE LES OPERATIONS EN VECTORIEL"
   ]
  },
  {
   "cell_type": "markdown",
   "id": "eb544e8f",
   "metadata": {},
   "source": [
    "### Encodage personnalisé des types d’usage avec les surfaces"
   ]
  },
  {
   "cell_type": "markdown",
   "id": "f3a57c6b",
   "metadata": {},
   "source": [
    "!! Attention question plus difficile !!\n",
    "\n",
    "Dans cette étape, nous allons encoder les colonnes représentant les types d’usage des bâtiments (type primaire, secondaire, et tertiaire) en créant une nouvelle colonne pour chaque type d’usage unique présent dans le dataset.\n",
    "\n",
    "Cible -> chaque colonne représentera un type d’usage, et sa valeur contiendra :\n",
    "- La superficie de l’usage primaire si ce type est l’usage primaire du bâtiment.\n",
    "- La superficie de l’usage secondaire si ce type est l’usage secondaire.\n",
    "- La superficie de l’usage tertiaire si ce type est l’usage tertiaire.\n",
    "- 0 si ce type d’usage n’est pas associé au bâtiment.\n",
    "\n",
    "Étapes à suivre :\n",
    "- Identifier toutes les modalités uniques des types d’usage présentes dans les colonnes LargestPropertyUseType, SecondLargestPropertyUseType, et ThirdLargestPropertyUseType.\n",
    "- Créer une colonne pour chaque type d’usage.\n",
    "- Renseigner la superficie correspondante pour chaque bâtiment dans la colonne associée au type d’usage, en fonction de son rôle (primaire, secondaire, ou tertiaire).\n",
    "- Remplir les valeurs par 0 pour les colonnes des types d’usage qui ne s’appliquent pas au bâtiment."
   ]
  },
  {
   "cell_type": "code",
   "execution_count": 23,
   "id": "05ae40eb",
   "metadata": {},
   "outputs": [],
   "source": [
    "# Votre code ici"
   ]
  },
  {
   "cell_type": "code",
   "execution_count": 31,
   "id": "b1d25e8f",
   "metadata": {},
   "outputs": [
    {
     "data": {
      "text/plain": [
       "Index(['Neighborhood', 'YearBuilt', 'NumberofBuildings', 'NumberofFloors',\n",
       "       'PropertyGFATotal', 'PropertyGFAParking', 'SiteEnergyUse(kBtu)'],\n",
       "      dtype='object')"
      ]
     },
     "execution_count": 31,
     "metadata": {},
     "output_type": "execute_result"
    }
   ],
   "source": [
    "energy_df.columns"
   ]
  },
  {
   "cell_type": "markdown",
   "id": "331688bb",
   "metadata": {},
   "source": [
    "Créer un X (contenant toutes et uniquement les colonnes explicatives du dataframe) et un y (contenant la cible)."
   ]
  },
  {
   "cell_type": "code",
   "execution_count": 32,
   "id": "57bd7e05",
   "metadata": {},
   "outputs": [],
   "source": [
    "X = energy_df.drop(\"SiteEnergyUse(kBtu)\", axis=1)"
   ]
  },
  {
   "cell_type": "markdown",
   "id": "d87b76b8",
   "metadata": {},
   "source": [
    "## Prétraitement des données : Mise à l'échelle et encodage\n",
    "Nous devons maintenant normaliser les données numériques et encoder les variables catégorielles. Utilisez `StandardScaler` pour la normalisation et `pd.get_dummies` pour encoder la variable catégorielle `Neighborhood`."
   ]
  },
  {
   "cell_type": "code",
   "execution_count": 33,
   "id": "6843ed8e",
   "metadata": {},
   "outputs": [
    {
     "data": {
      "text/plain": [
       "array([[-1.26073822, -0.05120873,  1.29323464, -0.03382727, -0.25193963,\n",
       "        -0.04311974, -0.17680489, -0.09176987, -0.15305272, -0.01758994,\n",
       "         2.18713101, -0.03519622, -0.39690893, -0.35232192, -0.28634707,\n",
       "        -0.38375456, -0.21035838, -0.30064574, -0.25679041, -0.11333407,\n",
       "        -0.05570188, -0.15826421, -0.22057631],\n",
       "       [ 0.82305844, -0.05120873,  1.11388377,  0.03396391,  0.20483432,\n",
       "        -0.04311974, -0.17680489, -0.09176987, -0.15305272, -0.01758994,\n",
       "         2.18713101, -0.03519622, -0.39690893, -0.35232192, -0.28634707,\n",
       "        -0.38375456, -0.21035838, -0.30064574, -0.25679041, -0.11333407,\n",
       "        -0.05570188, -0.15826421, -0.22057631],\n",
       "       [ 0.00765975, -0.05120873,  6.49441003,  3.85335108,  5.71298718,\n",
       "        -0.04311974, -0.17680489, -0.09176987, -0.15305272, -0.01758994,\n",
       "         2.18713101, -0.03519622, -0.39690893, -0.35232192, -0.28634707,\n",
       "        -0.38375456, -0.21035838, -0.30064574, -0.25679041, -0.11333407,\n",
       "        -0.05570188, -0.15826421, -0.22057631],\n",
       "       [-1.29093817, -0.05120873,  0.93453289, -0.15529768, -0.25193963,\n",
       "        -0.04311974, -0.17680489, -0.09176987, -0.15305272, -0.01758994,\n",
       "         2.18713101, -0.03519622, -0.39690893, -0.35232192, -0.28634707,\n",
       "        -0.38375456, -0.21035838, -0.30064574, -0.25679041, -0.11333407,\n",
       "        -0.05570188, -0.15826421, -0.22057631],\n",
       "       [ 0.33985921, -0.05120873,  2.3693399 ,  0.35658579,  1.62803812,\n",
       "        -0.04311974, -0.17680489, -0.09176987, -0.15305272, -0.01758994,\n",
       "         2.18713101, -0.03519622, -0.39690893, -0.35232192, -0.28634707,\n",
       "        -0.38375456, -0.21035838, -0.30064574, -0.25679041, -0.11333407,\n",
       "        -0.05570188, -0.15826421, -0.22057631]])"
      ]
     },
     "execution_count": 33,
     "metadata": {},
     "output_type": "execute_result"
    }
   ],
   "source": [
    "from sklearn.preprocessing import StandardScaler\n",
    "\n",
    "# Encoder la variable catégorielle 'Neighborhood'\n",
    "X = pd.get_dummies(X, columns=['Neighborhood'], drop_first=True)\n",
    "\n",
    "# Normaliser les données\n",
    "scaler = StandardScaler()\n",
    "X_scaled = scaler.fit_transform(X)\n",
    "\n",
    "# Afficher les premières lignes après mise à l'échelle et encodage\n",
    "X_scaled[:5]"
   ]
  },
  {
   "cell_type": "markdown",
   "id": "1fe4cc36",
   "metadata": {},
   "source": [
    "## Entraînement du modèle de régression linéaire\n",
    "Cette cellule utilise un modèle de régression linéaire pour prédire la consommation d'énergie (`SiteEnergyUse(kBtu)`) en fonction des caractéristiques préparées. Elle réalise l'entraînement du modèle sur les données d'entraînement. En adaptant les noms de variables si besoin, l'exécuter et observer son résultat.\n"
   ]
  },
  {
   "cell_type": "code",
   "execution_count": 34,
   "id": "mno345",
   "metadata": {},
   "outputs": [
    {
     "data": {
      "text/plain": [
       "array([-5.99896339e+05,  5.97746691e+06,  2.03998325e+05,  1.32575389e+07,\n",
       "       -1.40698409e+06,  5.32112620e+04,  1.70659564e+05,  1.06183531e+04,\n",
       "       -1.78216296e+05,  2.19010710e+04,  2.92862604e+05,  2.17626922e+05,\n",
       "        2.56151396e+05,  8.29093147e+04,  6.75273483e+05,  1.19824169e+05,\n",
       "       -5.85647078e+04,  5.26939529e+05,  1.55011802e+05, -1.55018038e+04,\n",
       "        3.60744797e+04,  1.38928298e+04,  6.15778575e+04])"
      ]
     },
     "execution_count": 34,
     "metadata": {},
     "output_type": "execute_result"
    }
   ],
   "source": [
    "from sklearn.linear_model import LinearRegression\n",
    "from sklearn.model_selection import train_test_split\n",
    "\n",
    "# Diviser les données en ensembles d'entraînement et de test\n",
    "X_train, X_test, y_train, y_test = train_test_split(X_scaled, y, test_size=0.2, random_state=42)\n",
    "\n",
    "# Entraîner le modèle de régression linéaire\n",
    "model = LinearRegression()\n",
    "model.fit(X_train, y_train)\n",
    "\n",
    "# Afficher les coefficients du modèle\n",
    "model.coef_"
   ]
  },
  {
   "cell_type": "markdown",
   "id": "682078fd",
   "metadata": {},
   "source": [
    "## Évaluation du modèle\n",
    "Cette cellule sert à évaluer la performance du modèle en calculant l'erreur quadratique moyenne (MSE) et le coefficient de détermination R² sur les données de test. En adaptant les noms de variables si besoin, l'exécuter et observer son résultat."
   ]
  },
  {
   "cell_type": "code",
   "execution_count": 35,
   "id": "pqr678",
   "metadata": {},
   "outputs": [
    {
     "name": "stdout",
     "output_type": "stream",
     "text": [
      "Mean Squared Error: 431775744741310.94\n",
      "R-squared: 0.3341353240290684\n"
     ]
    }
   ],
   "source": [
    "from sklearn.metrics import mean_squared_error, r2_score\n",
    "\n",
    "# Faire des prédictions sur les données de test\n",
    "y_pred = model.predict(X_test)\n",
    "\n",
    "# Calculer les métriques d'évaluation\n",
    "mse = mean_squared_error(y_test, y_pred)\n",
    "r2 = r2_score(y_test, y_pred)\n",
    "\n",
    "print(f\"Mean Squared Error: {mse}\")\n",
    "print(f\"R-squared: {r2}\")"
   ]
  },
  {
   "cell_type": "markdown",
   "id": "ef243781",
   "metadata": {},
   "source": [
    "## Visualisations des résultats\n",
    "Enfin, visualisez les résultats en traçant un graphique des prédictions vs valeurs réelles et un histogramme des erreurs."
   ]
  },
  {
   "cell_type": "code",
   "execution_count": 39,
   "id": "stu901",
   "metadata": {},
   "outputs": [
    {
     "data": {
      "image/png": "[encoded data removed]",
      "text/plain": [
       "<Figure size 1500x800 with 2 Axes>"
      ]
     },
     "metadata": {},
     "output_type": "display_data"
    }
   ],
   "source": [
    "import matplotlib.pyplot as plt\n",
    "\n",
    "plt.figure(figsize=(15, 8))\n",
    "plt.subplot(1, 2, 1)\n",
    "plt.scatter(y_test, y_pred, alpha=0.7)\n",
    "plt.title(\"Prédiction vs réalité\")\n",
    "plt.xlabel(\"Valeurs réelles\")\n",
    "plt.ylabel(\"Valeurs prédites\")\n",
    "\n",
    "plt.subplot(1, 2, 2)\n",
    "errors = y_pred - y_test\n",
    "plt.hist(errors, bins=30, alpha=0.7, color=\"green\")\n",
    "plt.title(\"Distribution des erreurs\")\n",
    "plt.xlabel(\"Erreur\")\n",
    "plt.ylabel(\"Fréquence\")\n",
    "\n",
    "plt.tight_layout()\n",
    "plt.show()"
   ]
  },
  {
   "cell_type": "code",
   "execution_count": null,
   "id": "2377160b",
   "metadata": {},
   "outputs": [],
   "source": []
  }
 ],
 "metadata": {
  "kernelspec": {
   "display_name": "test-yOZBwoax-py3.11",
   "language": "python",
   "name": "python3"
  },
  "language_info": {
   "codemirror_mode": {
    "name": "ipython",
    "version": 3
   },
   "file_extension": ".py",
   "mimetype": "text/x-python",
   "name": "python",
   "nbconvert_exporter": "python",
   "pygments_lexer": "ipython3",
   "version": "3.11.4"
  }
 },
 "nbformat": 4,
 "nbformat_minor": 5
}
